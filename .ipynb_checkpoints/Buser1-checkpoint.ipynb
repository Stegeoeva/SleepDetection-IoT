{
 "cells": [
  {
   "cell_type": "code",
   "execution_count": 1,
   "metadata": {},
   "outputs": [],
   "source": [
    "#Import libraries\n",
    "import matplotlib.pyplot as plt\n",
    "import numpy as np\n",
    "import pickle\n",
    "import seaborn as sns\n",
    "import pandas as pd\n",
    "import matplotlib.ticker as mticker\n",
    "import matplotlib.dates as md\n",
    "import datetime as dt\n",
    "from scipy import stats\n",
    "import math "
   ]
  },
  {
   "cell_type": "code",
   "execution_count": 2,
   "metadata": {},
   "outputs": [],
   "source": [
    "#Import data\n",
    "df5 = pd.read_csv('AccelerometerData_103_04_06_19.txt')  \n",
    "df6 = pd.read_csv('AccelerometerData_103_05_06_19.txt') \n",
    "df2 = pd.read_csv('AccelerometerData_101_31_05_19.txt')  \n",
    "df4 = pd.read_csv('AccelerometerData_102_03_06_19.txt') \n",
    "df1 = pd.read_csv('AccelerometerData_101_30_05_19.txt') \n",
    "df3 = pd.read_csv('AccelerometerData_102_02_06_19.txt') "
   ]
  },
  {
   "cell_type": "code",
   "execution_count": 3,
   "metadata": {},
   "outputs": [],
   "source": [
    "# data seperation for each participant and create a list for all datasets\n",
    "Participant1=[df1,df2]\n",
    "Participant2=[df3,df4]\n",
    "Participant3=[df5,df6]\n",
    "Participants=[Participant1,Participant2,Participant3]\n",
    "df=[df1,df2,df3,df4,df5,df6]"
   ]
  },
  {
   "cell_type": "code",
   "execution_count": 4,
   "metadata": {},
   "outputs": [
    {
     "data": {
      "text/html": [
       "<div>\n",
       "<style scoped>\n",
       "    .dataframe tbody tr th:only-of-type {\n",
       "        vertical-align: middle;\n",
       "    }\n",
       "\n",
       "    .dataframe tbody tr th {\n",
       "        vertical-align: top;\n",
       "    }\n",
       "\n",
       "    .dataframe thead th {\n",
       "        text-align: right;\n",
       "    }\n",
       "</style>\n",
       "<table border=\"1\" class=\"dataframe\">\n",
       "  <thead>\n",
       "    <tr style=\"text-align: right;\">\n",
       "      <th></th>\n",
       "      <th>UTC_Time</th>\n",
       "      <th>UpTime</th>\n",
       "      <th>Value1</th>\n",
       "      <th>Value2</th>\n",
       "      <th>Value3</th>\n",
       "    </tr>\n",
       "  </thead>\n",
       "  <tbody>\n",
       "    <tr>\n",
       "      <th>0</th>\n",
       "      <td>2:09:45 AM</td>\n",
       "      <td>387</td>\n",
       "      <td>-1.256232</td>\n",
       "      <td>5.151747</td>\n",
       "      <td>8.319844</td>\n",
       "    </tr>\n",
       "    <tr>\n",
       "      <th>1</th>\n",
       "      <td>2:09:45 AM</td>\n",
       "      <td>410</td>\n",
       "      <td>-1.263410</td>\n",
       "      <td>5.096712</td>\n",
       "      <td>8.338987</td>\n",
       "    </tr>\n",
       "    <tr>\n",
       "      <th>2</th>\n",
       "      <td>2:09:45 AM</td>\n",
       "      <td>432</td>\n",
       "      <td>-1.268196</td>\n",
       "      <td>5.056034</td>\n",
       "      <td>8.319844</td>\n",
       "    </tr>\n",
       "    <tr>\n",
       "      <th>3</th>\n",
       "      <td>2:09:45 AM</td>\n",
       "      <td>454</td>\n",
       "      <td>-1.296910</td>\n",
       "      <td>5.091927</td>\n",
       "      <td>8.291130</td>\n",
       "    </tr>\n",
       "    <tr>\n",
       "      <th>4</th>\n",
       "      <td>2:09:45 AM</td>\n",
       "      <td>475</td>\n",
       "      <td>-1.294517</td>\n",
       "      <td>5.209175</td>\n",
       "      <td>8.269595</td>\n",
       "    </tr>\n",
       "  </tbody>\n",
       "</table>\n",
       "</div>"
      ],
      "text/plain": [
       "     UTC_Time  UpTime    Value1    Value2    Value3\n",
       "0  2:09:45 AM     387 -1.256232  5.151747  8.319844\n",
       "1  2:09:45 AM     410 -1.263410  5.096712  8.338987\n",
       "2  2:09:45 AM     432 -1.268196  5.056034  8.319844\n",
       "3  2:09:45 AM     454 -1.296910  5.091927  8.291130\n",
       "4  2:09:45 AM     475 -1.294517  5.209175  8.269595"
      ]
     },
     "execution_count": 4,
     "metadata": {},
     "output_type": "execute_result"
    }
   ],
   "source": [
    "df[1].head()"
   ]
  },
  {
   "cell_type": "code",
   "execution_count": 5,
   "metadata": {},
   "outputs": [],
   "source": [
    "df=df[1]"
   ]
  },
  {
   "cell_type": "markdown",
   "metadata": {},
   "source": [
    "# Summary Statistics"
   ]
  },
  {
   "cell_type": "code",
   "execution_count": 6,
   "metadata": {},
   "outputs": [
    {
     "name": "stdout",
     "output_type": "stream",
     "text": [
      "Earliest date: 2:09:45 AM\n",
      "Latest date: 7:46:06 AM\n",
      "Min of ax: -21.09991\n",
      "Min of ay: -25.646273\n",
      "Min of az: -12.062219\n",
      "Max of ax: 23.521446\n",
      "Max of ay: 22.217358\n",
      "Max of az: 27.651459\n"
     ]
    }
   ],
   "source": [
    "print('Earliest date:',df.UTC_Time.min())\n",
    "print('Latest date:',df.UTC_Time.max())\n",
    "print('Min of ax:',df.Value1.min())\n",
    "print('Min of ay:',df.Value2.min())\n",
    "print('Min of az:',df.Value3.min())\n",
    "print('Max of ax:',df.Value1.max())\n",
    "print('Max of ay:',df.Value2.max())\n",
    "print('Max of az:',df.Value3.max())"
   ]
  },
  {
   "cell_type": "code",
   "execution_count": 7,
   "metadata": {},
   "outputs": [
    {
     "name": "stdout",
     "output_type": "stream",
     "text": [
      "Mean value of ax for all users:0\n",
      "Mean value of ay for all users:-1\n",
      "Mean value of az for all users:6\n"
     ]
    }
   ],
   "source": [
    "print('Mean value of ax for all users:%i'%np.mean(df.Value1))\n",
    "print('Mean value of ay for all users:%i'%np.mean(df.Value2))\n",
    "print('Mean value of az for all users:%i'%np.mean(df.Value3))"
   ]
  },
  {
   "cell_type": "markdown",
   "metadata": {},
   "source": [
    "# Distribution Analysis of Values"
   ]
  },
  {
   "cell_type": "code",
   "execution_count": null,
   "metadata": {},
   "outputs": [],
   "source": [
    "from distfit import distfit"
   ]
  },
  {
   "cell_type": "code",
   "execution_count": null,
   "metadata": {},
   "outputs": [],
   "source": [
    "dist = distfit()\n",
    "dist.fit_transform(df['Value1'] )\n",
    "dist.plot(figsize=(10,5));"
   ]
  },
  {
   "cell_type": "code",
   "execution_count": null,
   "metadata": {},
   "outputs": [],
   "source": [
    "dist = distfit()\n",
    "dist.fit_transform(df['Value2'] )\n",
    "dist.plot(figsize=(10,5));"
   ]
  },
  {
   "cell_type": "code",
   "execution_count": null,
   "metadata": {},
   "outputs": [],
   "source": [
    "dist = distfit()\n",
    "dist.fit_transform(df['Value3'] )\n",
    "dist.plot(figsize=(10,5));"
   ]
  },
  {
   "cell_type": "markdown",
   "metadata": {},
   "source": [
    "# Preprocessing"
   ]
  },
  {
   "cell_type": "code",
   "execution_count": 8,
   "metadata": {},
   "outputs": [],
   "source": [
    "# Remove spikes \n",
    "df = df[(np.abs(stats.zscore(df.iloc[:,2:5])) < 3).all(axis=1)]"
   ]
  },
  {
   "cell_type": "code",
   "execution_count": 9,
   "metadata": {},
   "outputs": [
    {
     "name": "stderr",
     "output_type": "stream",
     "text": [
      "C:\\Users\\user\\AppData\\Local\\Temp\\ipykernel_392\\1504547310.py:2: SettingWithCopyWarning: \n",
      "A value is trying to be set on a copy of a slice from a DataFrame.\n",
      "Try using .loc[row_indexer,col_indexer] = value instead\n",
      "\n",
      "See the caveats in the documentation: https://pandas.pydata.org/pandas-docs/stable/user_guide/indexing.html#returning-a-view-versus-a-copy\n",
      "  df['UpTime'] = pd.to_timedelta(df['UpTime'], 'ms')\n"
     ]
    }
   ],
   "source": [
    "#Convert UpTime to timedelta(ms)\n",
    "df['UpTime'] = pd.to_timedelta(df['UpTime'], 'ms')"
   ]
  },
  {
   "cell_type": "code",
   "execution_count": 10,
   "metadata": {},
   "outputs": [],
   "source": [
    "#Resample data in 20Hz\n",
    "df=df.resample('50ms', on='UpTime').mean()\n",
    "df = df.fillna(method = 'ffill')"
   ]
  },
  {
   "cell_type": "code",
   "execution_count": 11,
   "metadata": {},
   "outputs": [],
   "source": [
    "# Rolling 5 sec medians value1,2,3\n",
    "df['Value1']=df['Value1'].rolling(window=100,min_periods=1).median()\n",
    "df['Value2']=df['Value2'].rolling(window=100,min_periods=1).median()\n",
    "df['Value3']=df['Value3'].rolling(window=100,min_periods=1).median()"
   ]
  },
  {
   "cell_type": "code",
   "execution_count": 12,
   "metadata": {},
   "outputs": [
    {
     "data": {
      "text/html": [
       "<div>\n",
       "<style scoped>\n",
       "    .dataframe tbody tr th:only-of-type {\n",
       "        vertical-align: middle;\n",
       "    }\n",
       "\n",
       "    .dataframe tbody tr th {\n",
       "        vertical-align: top;\n",
       "    }\n",
       "\n",
       "    .dataframe thead th {\n",
       "        text-align: right;\n",
       "    }\n",
       "</style>\n",
       "<table border=\"1\" class=\"dataframe\">\n",
       "  <thead>\n",
       "    <tr style=\"text-align: right;\">\n",
       "      <th></th>\n",
       "      <th>Value1</th>\n",
       "      <th>Value2</th>\n",
       "      <th>Value3</th>\n",
       "    </tr>\n",
       "    <tr>\n",
       "      <th>UpTime</th>\n",
       "      <th></th>\n",
       "      <th></th>\n",
       "      <th></th>\n",
       "    </tr>\n",
       "  </thead>\n",
       "  <tbody>\n",
       "    <tr>\n",
       "      <th>0 days 00:00:00.387000</th>\n",
       "      <td>-1.262613</td>\n",
       "      <td>5.101498</td>\n",
       "      <td>8.326225</td>\n",
       "    </tr>\n",
       "    <tr>\n",
       "      <th>0 days 00:00:00.437000</th>\n",
       "      <td>-1.279163</td>\n",
       "      <td>5.126024</td>\n",
       "      <td>8.303294</td>\n",
       "    </tr>\n",
       "    <tr>\n",
       "      <th>0 days 00:00:00.487000</th>\n",
       "      <td>-1.262613</td>\n",
       "      <td>5.150551</td>\n",
       "      <td>8.280363</td>\n",
       "    </tr>\n",
       "    <tr>\n",
       "      <th>0 days 00:00:00.537000</th>\n",
       "      <td>-1.253440</td>\n",
       "      <td>5.165506</td>\n",
       "      <td>8.267801</td>\n",
       "    </tr>\n",
       "    <tr>\n",
       "      <th>0 days 00:00:00.587000</th>\n",
       "      <td>-1.262613</td>\n",
       "      <td>5.170890</td>\n",
       "      <td>8.255239</td>\n",
       "    </tr>\n",
       "  </tbody>\n",
       "</table>\n",
       "</div>"
      ],
      "text/plain": [
       "                          Value1    Value2    Value3\n",
       "UpTime                                              \n",
       "0 days 00:00:00.387000 -1.262613  5.101498  8.326225\n",
       "0 days 00:00:00.437000 -1.279163  5.126024  8.303294\n",
       "0 days 00:00:00.487000 -1.262613  5.150551  8.280363\n",
       "0 days 00:00:00.537000 -1.253440  5.165506  8.267801\n",
       "0 days 00:00:00.587000 -1.262613  5.170890  8.255239"
      ]
     },
     "execution_count": 12,
     "metadata": {},
     "output_type": "execute_result"
    }
   ],
   "source": [
    "df.head()"
   ]
  },
  {
   "cell_type": "markdown",
   "metadata": {},
   "source": [
    "# Calculate Angle"
   ]
  },
  {
   "cell_type": "code",
   "execution_count": 13,
   "metadata": {},
   "outputs": [],
   "source": [
    "#Calculate angle\n",
    "df['angle'] = np.arctan(df[\"Value3\"] / np.sqrt( np.square(df[\"Value1\"]) + np.square(df[\"Value2\"]))) * 180 / np.pi"
   ]
  },
  {
   "cell_type": "code",
   "execution_count": 14,
   "metadata": {},
   "outputs": [],
   "source": [
    "# Reset UpTime\n",
    "df.reset_index(inplace=True)"
   ]
  },
  {
   "cell_type": "code",
   "execution_count": 15,
   "metadata": {},
   "outputs": [
    {
     "data": {
      "text/html": [
       "<div>\n",
       "<style scoped>\n",
       "    .dataframe tbody tr th:only-of-type {\n",
       "        vertical-align: middle;\n",
       "    }\n",
       "\n",
       "    .dataframe tbody tr th {\n",
       "        vertical-align: top;\n",
       "    }\n",
       "\n",
       "    .dataframe thead th {\n",
       "        text-align: right;\n",
       "    }\n",
       "</style>\n",
       "<table border=\"1\" class=\"dataframe\">\n",
       "  <thead>\n",
       "    <tr style=\"text-align: right;\">\n",
       "      <th></th>\n",
       "      <th>UpTime</th>\n",
       "      <th>Value1</th>\n",
       "      <th>Value2</th>\n",
       "      <th>Value3</th>\n",
       "      <th>angle</th>\n",
       "    </tr>\n",
       "  </thead>\n",
       "  <tbody>\n",
       "    <tr>\n",
       "      <th>0</th>\n",
       "      <td>0 days 00:00:00.387000</td>\n",
       "      <td>-1.262613</td>\n",
       "      <td>5.101498</td>\n",
       "      <td>8.326225</td>\n",
       "      <td>57.740324</td>\n",
       "    </tr>\n",
       "    <tr>\n",
       "      <th>1</th>\n",
       "      <td>0 days 00:00:00.437000</td>\n",
       "      <td>-1.279163</td>\n",
       "      <td>5.126024</td>\n",
       "      <td>8.303294</td>\n",
       "      <td>57.532232</td>\n",
       "    </tr>\n",
       "    <tr>\n",
       "      <th>2</th>\n",
       "      <td>0 days 00:00:00.487000</td>\n",
       "      <td>-1.262613</td>\n",
       "      <td>5.150551</td>\n",
       "      <td>8.280363</td>\n",
       "      <td>57.362989</td>\n",
       "    </tr>\n",
       "    <tr>\n",
       "      <th>3</th>\n",
       "      <td>0 days 00:00:00.537000</td>\n",
       "      <td>-1.253440</td>\n",
       "      <td>5.165506</td>\n",
       "      <td>8.267801</td>\n",
       "      <td>57.262844</td>\n",
       "    </tr>\n",
       "    <tr>\n",
       "      <th>4</th>\n",
       "      <td>0 days 00:00:00.587000</td>\n",
       "      <td>-1.262613</td>\n",
       "      <td>5.170890</td>\n",
       "      <td>8.255239</td>\n",
       "      <td>57.186909</td>\n",
       "    </tr>\n",
       "  </tbody>\n",
       "</table>\n",
       "</div>"
      ],
      "text/plain": [
       "                  UpTime    Value1    Value2    Value3      angle\n",
       "0 0 days 00:00:00.387000 -1.262613  5.101498  8.326225  57.740324\n",
       "1 0 days 00:00:00.437000 -1.279163  5.126024  8.303294  57.532232\n",
       "2 0 days 00:00:00.487000 -1.262613  5.150551  8.280363  57.362989\n",
       "3 0 days 00:00:00.537000 -1.253440  5.165506  8.267801  57.262844\n",
       "4 0 days 00:00:00.587000 -1.262613  5.170890  8.255239  57.186909"
      ]
     },
     "execution_count": 15,
     "metadata": {},
     "output_type": "execute_result"
    }
   ],
   "source": [
    "df.head()"
   ]
  },
  {
   "cell_type": "markdown",
   "metadata": {},
   "source": [
    "# Van Hess, 2015"
   ]
  },
  {
   "cell_type": "code",
   "execution_count": 16,
   "metadata": {},
   "outputs": [],
   "source": [
    "#create a new dataframe with essential collumns\n",
    "SPT = df[['UpTime', 'angle']]"
   ]
  },
  {
   "cell_type": "code",
   "execution_count": 17,
   "metadata": {},
   "outputs": [],
   "source": [
    "#Average angle per 5S\n",
    "SPT=SPT.resample('5S', on='UpTime').mean()"
   ]
  },
  {
   "cell_type": "code",
   "execution_count": 18,
   "metadata": {},
   "outputs": [],
   "source": [
    "#calculate angle differences\n",
    "SPT['angle difference'] = SPT['angle'].diff().fillna(method = 'bfill')"
   ]
  },
  {
   "cell_type": "code",
   "execution_count": 19,
   "metadata": {},
   "outputs": [
    {
     "data": {
      "text/html": [
       "<div>\n",
       "<style scoped>\n",
       "    .dataframe tbody tr th:only-of-type {\n",
       "        vertical-align: middle;\n",
       "    }\n",
       "\n",
       "    .dataframe tbody tr th {\n",
       "        vertical-align: top;\n",
       "    }\n",
       "\n",
       "    .dataframe thead th {\n",
       "        text-align: right;\n",
       "    }\n",
       "</style>\n",
       "<table border=\"1\" class=\"dataframe\">\n",
       "  <thead>\n",
       "    <tr style=\"text-align: right;\">\n",
       "      <th></th>\n",
       "      <th>angle</th>\n",
       "      <th>angle difference</th>\n",
       "    </tr>\n",
       "    <tr>\n",
       "      <th>UpTime</th>\n",
       "      <th></th>\n",
       "      <th></th>\n",
       "    </tr>\n",
       "  </thead>\n",
       "  <tbody>\n",
       "    <tr>\n",
       "      <th>0 days 00:00:00.387000</th>\n",
       "      <td>57.167962</td>\n",
       "      <td>8.941413</td>\n",
       "    </tr>\n",
       "    <tr>\n",
       "      <th>0 days 00:00:05.387000</th>\n",
       "      <td>66.109375</td>\n",
       "      <td>8.941413</td>\n",
       "    </tr>\n",
       "    <tr>\n",
       "      <th>0 days 00:00:10.387000</th>\n",
       "      <td>72.626686</td>\n",
       "      <td>6.517310</td>\n",
       "    </tr>\n",
       "    <tr>\n",
       "      <th>0 days 00:00:15.387000</th>\n",
       "      <td>80.808780</td>\n",
       "      <td>8.182095</td>\n",
       "    </tr>\n",
       "    <tr>\n",
       "      <th>0 days 00:00:20.387000</th>\n",
       "      <td>80.404302</td>\n",
       "      <td>-0.404478</td>\n",
       "    </tr>\n",
       "  </tbody>\n",
       "</table>\n",
       "</div>"
      ],
      "text/plain": [
       "                            angle  angle difference\n",
       "UpTime                                             \n",
       "0 days 00:00:00.387000  57.167962          8.941413\n",
       "0 days 00:00:05.387000  66.109375          8.941413\n",
       "0 days 00:00:10.387000  72.626686          6.517310\n",
       "0 days 00:00:15.387000  80.808780          8.182095\n",
       "0 days 00:00:20.387000  80.404302         -0.404478"
      ]
     },
     "execution_count": 19,
     "metadata": {},
     "output_type": "execute_result"
    }
   ],
   "source": [
    "SPT.head()"
   ]
  },
  {
   "cell_type": "markdown",
   "metadata": {},
   "source": [
    "# Detect inactivity"
   ]
  },
  {
   "cell_type": "code",
   "execution_count": 20,
   "metadata": {},
   "outputs": [],
   "source": [
    "#create 2 booltype columns for 5 and 10 minutes windows and detect arms changes\n",
    "SPT['5MWindow'] = SPT['angle difference'].apply(lambda x: abs(x) < 5)\n",
    "SPT['10MWindow'] = SPT['angle difference'].apply(lambda x: abs(x) < 5)"
   ]
  },
  {
   "cell_type": "code",
   "execution_count": 21,
   "metadata": {},
   "outputs": [
    {
     "data": {
      "text/html": [
       "<div>\n",
       "<style scoped>\n",
       "    .dataframe tbody tr th:only-of-type {\n",
       "        vertical-align: middle;\n",
       "    }\n",
       "\n",
       "    .dataframe tbody tr th {\n",
       "        vertical-align: top;\n",
       "    }\n",
       "\n",
       "    .dataframe thead th {\n",
       "        text-align: right;\n",
       "    }\n",
       "</style>\n",
       "<table border=\"1\" class=\"dataframe\">\n",
       "  <thead>\n",
       "    <tr style=\"text-align: right;\">\n",
       "      <th></th>\n",
       "      <th>angle</th>\n",
       "      <th>angle difference</th>\n",
       "      <th>5MWindow</th>\n",
       "      <th>10MWindow</th>\n",
       "    </tr>\n",
       "    <tr>\n",
       "      <th>UpTime</th>\n",
       "      <th></th>\n",
       "      <th></th>\n",
       "      <th></th>\n",
       "      <th></th>\n",
       "    </tr>\n",
       "  </thead>\n",
       "  <tbody>\n",
       "    <tr>\n",
       "      <th>0 days 00:00:00.387000</th>\n",
       "      <td>57.167962</td>\n",
       "      <td>8.941413</td>\n",
       "      <td>False</td>\n",
       "      <td>False</td>\n",
       "    </tr>\n",
       "    <tr>\n",
       "      <th>0 days 00:00:05.387000</th>\n",
       "      <td>66.109375</td>\n",
       "      <td>8.941413</td>\n",
       "      <td>False</td>\n",
       "      <td>False</td>\n",
       "    </tr>\n",
       "    <tr>\n",
       "      <th>0 days 00:00:10.387000</th>\n",
       "      <td>72.626686</td>\n",
       "      <td>6.517310</td>\n",
       "      <td>False</td>\n",
       "      <td>False</td>\n",
       "    </tr>\n",
       "    <tr>\n",
       "      <th>0 days 00:00:15.387000</th>\n",
       "      <td>80.808780</td>\n",
       "      <td>8.182095</td>\n",
       "      <td>False</td>\n",
       "      <td>False</td>\n",
       "    </tr>\n",
       "    <tr>\n",
       "      <th>0 days 00:00:20.387000</th>\n",
       "      <td>80.404302</td>\n",
       "      <td>-0.404478</td>\n",
       "      <td>True</td>\n",
       "      <td>True</td>\n",
       "    </tr>\n",
       "  </tbody>\n",
       "</table>\n",
       "</div>"
      ],
      "text/plain": [
       "                            angle  angle difference  5MWindow  10MWindow\n",
       "UpTime                                                                  \n",
       "0 days 00:00:00.387000  57.167962          8.941413     False      False\n",
       "0 days 00:00:05.387000  66.109375          8.941413     False      False\n",
       "0 days 00:00:10.387000  72.626686          6.517310     False      False\n",
       "0 days 00:00:15.387000  80.808780          8.182095     False      False\n",
       "0 days 00:00:20.387000  80.404302         -0.404478      True       True"
      ]
     },
     "execution_count": 21,
     "metadata": {},
     "output_type": "execute_result"
    }
   ],
   "source": [
    "SPT.head()"
   ]
  },
  {
   "cell_type": "code",
   "execution_count": 22,
   "metadata": {},
   "outputs": [],
   "source": [
    "#index arrays where angle change is bigger than 5 degrees    \n",
    "index_5 = SPT['5MWindow'][SPT['5MWindow']==False].index\n",
    "index_10 = SPT['10MWindow'][SPT['10MWindow']==False].index"
   ]
  },
  {
   "cell_type": "code",
   "execution_count": 23,
   "metadata": {},
   "outputs": [
    {
     "name": "stderr",
     "output_type": "stream",
     "text": [
      "C:\\Users\\user\\AppData\\Local\\Temp\\ipykernel_392\\2729079712.py:6: SettingWithCopyWarning: \n",
      "A value is trying to be set on a copy of a slice from a DataFrame\n",
      "\n",
      "See the caveats in the documentation: https://pandas.pydata.org/pandas-docs/stable/user_guide/indexing.html#returning-a-view-versus-a-copy\n",
      "  SPT['5MWindow'].loc[index_5[i]+dt.timedelta(seconds = 5):index_5[i+1]-dt.timedelta(seconds = 5)] = False\n",
      "C:\\Users\\user\\AppData\\Local\\Temp\\ipykernel_392\\2729079712.py:4: SettingWithCopyWarning: \n",
      "A value is trying to be set on a copy of a slice from a DataFrame\n",
      "\n",
      "See the caveats in the documentation: https://pandas.pydata.org/pandas-docs/stable/user_guide/indexing.html#returning-a-view-versus-a-copy\n",
      "  SPT['5MWindow'].loc[index_5[i]+dt.timedelta(seconds = 5):index_5[i+1]-dt.timedelta(seconds = 5)] = True\n",
      "C:\\Users\\user\\AppData\\Local\\Temp\\ipykernel_392\\2729079712.py:13: SettingWithCopyWarning: \n",
      "A value is trying to be set on a copy of a slice from a DataFrame\n",
      "\n",
      "See the caveats in the documentation: https://pandas.pydata.org/pandas-docs/stable/user_guide/indexing.html#returning-a-view-versus-a-copy\n",
      "  SPT['10MWindow'].loc[index_10[i]+dt.timedelta(seconds = 5):index_10[i+1]-dt.timedelta(seconds = 5)] = False\n",
      "C:\\Users\\user\\AppData\\Local\\Temp\\ipykernel_392\\2729079712.py:11: SettingWithCopyWarning: \n",
      "A value is trying to be set on a copy of a slice from a DataFrame\n",
      "\n",
      "See the caveats in the documentation: https://pandas.pydata.org/pandas-docs/stable/user_guide/indexing.html#returning-a-view-versus-a-copy\n",
      "  SPT['10MWindow'].loc[index_10[i]+dt.timedelta(seconds = 5):index_10[i+1]-dt.timedelta(seconds = 5)] = True\n"
     ]
    }
   ],
   "source": [
    "#Detect if someone sleeping or not  (True if time is bigger than 5 or 10 minutes)\n",
    "for i in range(index_5.shape[0] - 1):\n",
    "    if (index_5[i+1] - index_5[i] > dt.timedelta(seconds = 300)):\n",
    "            SPT['5MWindow'].loc[index_5[i]+dt.timedelta(seconds = 5):index_5[i+1]-dt.timedelta(seconds = 5)] = True\n",
    "    else:\n",
    "            SPT['5MWindow'].loc[index_5[i]+dt.timedelta(seconds = 5):index_5[i+1]-dt.timedelta(seconds = 5)] = False\n",
    "            \n",
    "\n",
    "for i in range(index_10.shape[0] - 1):\n",
    "    if (index_10[i+1] - index_10[i] > dt.timedelta(seconds = 600)):\n",
    "            SPT['10MWindow'].loc[index_10[i]+dt.timedelta(seconds = 5):index_10[i+1]-dt.timedelta(seconds = 5)] = True\n",
    "    else:\n",
    "            SPT['10MWindow'].loc[index_10[i]+dt.timedelta(seconds = 5):index_10[i+1]-dt.timedelta(seconds = 5)] = False"
   ]
  },
  {
   "cell_type": "code",
   "execution_count": 24,
   "metadata": {},
   "outputs": [],
   "source": [
    "#Set upTime as an index\n",
    "SPT.reset_index(inplace=True)"
   ]
  },
  {
   "cell_type": "code",
   "execution_count": 25,
   "metadata": {},
   "outputs": [],
   "source": [
    "#Replace T/F with values helps in diagrams\n",
    "SPT['5MWindow']  = SPT['5MWindow'].apply(lambda x: 120 if x == 1 else  np.NaN)\n",
    "SPT['10MWindow']  = SPT['10MWindow'].apply(lambda x: 140 if x == 1 else np.NaN)"
   ]
  },
  {
   "cell_type": "code",
   "execution_count": 26,
   "metadata": {},
   "outputs": [
    {
     "data": {
      "text/html": [
       "<div>\n",
       "<style scoped>\n",
       "    .dataframe tbody tr th:only-of-type {\n",
       "        vertical-align: middle;\n",
       "    }\n",
       "\n",
       "    .dataframe tbody tr th {\n",
       "        vertical-align: top;\n",
       "    }\n",
       "\n",
       "    .dataframe thead th {\n",
       "        text-align: right;\n",
       "    }\n",
       "</style>\n",
       "<table border=\"1\" class=\"dataframe\">\n",
       "  <thead>\n",
       "    <tr style=\"text-align: right;\">\n",
       "      <th></th>\n",
       "      <th>UpTime</th>\n",
       "      <th>angle</th>\n",
       "      <th>angle difference</th>\n",
       "      <th>5MWindow</th>\n",
       "      <th>10MWindow</th>\n",
       "    </tr>\n",
       "  </thead>\n",
       "  <tbody>\n",
       "    <tr>\n",
       "      <th>0</th>\n",
       "      <td>0 days 00:00:00.387000</td>\n",
       "      <td>57.167962</td>\n",
       "      <td>8.941413</td>\n",
       "      <td>NaN</td>\n",
       "      <td>NaN</td>\n",
       "    </tr>\n",
       "    <tr>\n",
       "      <th>1</th>\n",
       "      <td>0 days 00:00:05.387000</td>\n",
       "      <td>66.109375</td>\n",
       "      <td>8.941413</td>\n",
       "      <td>NaN</td>\n",
       "      <td>NaN</td>\n",
       "    </tr>\n",
       "    <tr>\n",
       "      <th>2</th>\n",
       "      <td>0 days 00:00:10.387000</td>\n",
       "      <td>72.626686</td>\n",
       "      <td>6.517310</td>\n",
       "      <td>NaN</td>\n",
       "      <td>NaN</td>\n",
       "    </tr>\n",
       "    <tr>\n",
       "      <th>3</th>\n",
       "      <td>0 days 00:00:15.387000</td>\n",
       "      <td>80.808780</td>\n",
       "      <td>8.182095</td>\n",
       "      <td>NaN</td>\n",
       "      <td>NaN</td>\n",
       "    </tr>\n",
       "    <tr>\n",
       "      <th>4</th>\n",
       "      <td>0 days 00:00:20.387000</td>\n",
       "      <td>80.404302</td>\n",
       "      <td>-0.404478</td>\n",
       "      <td>NaN</td>\n",
       "      <td>NaN</td>\n",
       "    </tr>\n",
       "    <tr>\n",
       "      <th>5</th>\n",
       "      <td>0 days 00:00:25.387000</td>\n",
       "      <td>73.924391</td>\n",
       "      <td>-6.479911</td>\n",
       "      <td>NaN</td>\n",
       "      <td>NaN</td>\n",
       "    </tr>\n",
       "    <tr>\n",
       "      <th>6</th>\n",
       "      <td>0 days 00:00:30.387000</td>\n",
       "      <td>74.867501</td>\n",
       "      <td>0.943110</td>\n",
       "      <td>NaN</td>\n",
       "      <td>NaN</td>\n",
       "    </tr>\n",
       "    <tr>\n",
       "      <th>7</th>\n",
       "      <td>0 days 00:00:35.387000</td>\n",
       "      <td>40.625100</td>\n",
       "      <td>-34.242401</td>\n",
       "      <td>NaN</td>\n",
       "      <td>NaN</td>\n",
       "    </tr>\n",
       "    <tr>\n",
       "      <th>8</th>\n",
       "      <td>0 days 00:00:40.387000</td>\n",
       "      <td>72.965783</td>\n",
       "      <td>32.340683</td>\n",
       "      <td>NaN</td>\n",
       "      <td>NaN</td>\n",
       "    </tr>\n",
       "    <tr>\n",
       "      <th>9</th>\n",
       "      <td>0 days 00:00:45.387000</td>\n",
       "      <td>80.952701</td>\n",
       "      <td>7.986918</td>\n",
       "      <td>NaN</td>\n",
       "      <td>NaN</td>\n",
       "    </tr>\n",
       "  </tbody>\n",
       "</table>\n",
       "</div>"
      ],
      "text/plain": [
       "                  UpTime      angle  angle difference  5MWindow  10MWindow\n",
       "0 0 days 00:00:00.387000  57.167962          8.941413       NaN        NaN\n",
       "1 0 days 00:00:05.387000  66.109375          8.941413       NaN        NaN\n",
       "2 0 days 00:00:10.387000  72.626686          6.517310       NaN        NaN\n",
       "3 0 days 00:00:15.387000  80.808780          8.182095       NaN        NaN\n",
       "4 0 days 00:00:20.387000  80.404302         -0.404478       NaN        NaN\n",
       "5 0 days 00:00:25.387000  73.924391         -6.479911       NaN        NaN\n",
       "6 0 days 00:00:30.387000  74.867501          0.943110       NaN        NaN\n",
       "7 0 days 00:00:35.387000  40.625100        -34.242401       NaN        NaN\n",
       "8 0 days 00:00:40.387000  72.965783         32.340683       NaN        NaN\n",
       "9 0 days 00:00:45.387000  80.952701          7.986918       NaN        NaN"
      ]
     },
     "execution_count": 26,
     "metadata": {},
     "output_type": "execute_result"
    }
   ],
   "source": [
    "SPT.head(10)"
   ]
  },
  {
   "cell_type": "markdown",
   "metadata": {},
   "source": [
    "# Import GroundTruth"
   ]
  },
  {
   "cell_type": "code",
   "execution_count": 27,
   "metadata": {},
   "outputs": [
    {
     "data": {
      "text/html": [
       "<div>\n",
       "<style scoped>\n",
       "    .dataframe tbody tr th:only-of-type {\n",
       "        vertical-align: middle;\n",
       "    }\n",
       "\n",
       "    .dataframe tbody tr th {\n",
       "        vertical-align: top;\n",
       "    }\n",
       "\n",
       "    .dataframe thead th {\n",
       "        text-align: right;\n",
       "    }\n",
       "</style>\n",
       "<table border=\"1\" class=\"dataframe\">\n",
       "  <thead>\n",
       "    <tr style=\"text-align: right;\">\n",
       "      <th></th>\n",
       "      <th>0</th>\n",
       "      <th>1</th>\n",
       "      <th>2</th>\n",
       "      <th>3</th>\n",
       "      <th>4</th>\n",
       "      <th>5</th>\n",
       "    </tr>\n",
       "  </thead>\n",
       "  <tbody>\n",
       "    <tr>\n",
       "      <th>0</th>\n",
       "      <td>02:20:00</td>\n",
       "      <td>02:09:00</td>\n",
       "      <td>02:19:00</td>\n",
       "      <td>00:24:00</td>\n",
       "      <td>01:09:00</td>\n",
       "      <td>03:08:00</td>\n",
       "    </tr>\n",
       "    <tr>\n",
       "      <th>1</th>\n",
       "      <td>02:35:00</td>\n",
       "      <td>02:24:00</td>\n",
       "      <td>02:35:00</td>\n",
       "      <td>00:46:00</td>\n",
       "      <td>01:24:00</td>\n",
       "      <td>03:23:00</td>\n",
       "    </tr>\n",
       "    <tr>\n",
       "      <th>2</th>\n",
       "      <td>07:40:00</td>\n",
       "      <td>07:31:00</td>\n",
       "      <td>04:52:00</td>\n",
       "      <td>04:19:00</td>\n",
       "      <td>09:10:00</td>\n",
       "      <td>09:03:00</td>\n",
       "    </tr>\n",
       "    <tr>\n",
       "      <th>3</th>\n",
       "      <td>07:55:00</td>\n",
       "      <td>07:46:00</td>\n",
       "      <td>05:08:00</td>\n",
       "      <td>04:36:00</td>\n",
       "      <td>09:24:00</td>\n",
       "      <td>09:18:00</td>\n",
       "    </tr>\n",
       "  </tbody>\n",
       "</table>\n",
       "</div>"
      ],
      "text/plain": [
       "          0         1         2         3         4         5\n",
       "0  02:20:00  02:09:00  02:19:00  00:24:00  01:09:00  03:08:00\n",
       "1  02:35:00  02:24:00  02:35:00  00:46:00  01:24:00  03:23:00\n",
       "2  07:40:00  07:31:00  04:52:00  04:19:00  09:10:00  09:03:00\n",
       "3  07:55:00  07:46:00  05:08:00  04:36:00  09:24:00  09:18:00"
      ]
     },
     "execution_count": 27,
     "metadata": {},
     "output_type": "execute_result"
    }
   ],
   "source": [
    "# sleep log diary as groundtrouth\n",
    "ground_truth = pd.read_excel('SleepLog.xlsx')\n",
    "ground_truth = ground_truth.transpose()\n",
    "gt = pd.DataFrame(ground_truth.iloc[1:,:].reset_index(drop=True))\n",
    "gt"
   ]
  },
  {
   "cell_type": "markdown",
   "metadata": {},
   "source": [
    "# Correct time"
   ]
  },
  {
   "cell_type": "code",
   "execution_count": 28,
   "metadata": {},
   "outputs": [],
   "source": [
    "#Τime correction in appropriate form\n",
    "ct=gt[1][0]\n",
    "date=dt.date(2019,5,30)\n",
    "ct=dt.datetime.combine(date , ct)\n",
    "SPT['UpTime']= ((SPT['UpTime']) + (ct))\n",
    "SPT['UpTime']= SPT['UpTime'].dt.strftime('%H:%M:%S')"
   ]
  },
  {
   "cell_type": "code",
   "execution_count": 29,
   "metadata": {},
   "outputs": [],
   "source": [
    "# Create a new collumn as ground_trouth\n",
    "t1=gt[1][1]\n",
    "t2= gt[1][2]\n",
    "SPT.loc[(SPT['UpTime'] > str(t1)) & (SPT['UpTime'] < str(t2)) , 'gt']= 100"
   ]
  },
  {
   "cell_type": "code",
   "execution_count": 30,
   "metadata": {},
   "outputs": [
    {
     "data": {
      "text/html": [
       "<div>\n",
       "<style scoped>\n",
       "    .dataframe tbody tr th:only-of-type {\n",
       "        vertical-align: middle;\n",
       "    }\n",
       "\n",
       "    .dataframe tbody tr th {\n",
       "        vertical-align: top;\n",
       "    }\n",
       "\n",
       "    .dataframe thead th {\n",
       "        text-align: right;\n",
       "    }\n",
       "</style>\n",
       "<table border=\"1\" class=\"dataframe\">\n",
       "  <thead>\n",
       "    <tr style=\"text-align: right;\">\n",
       "      <th></th>\n",
       "      <th>UpTime</th>\n",
       "      <th>angle</th>\n",
       "      <th>angle difference</th>\n",
       "      <th>5MWindow</th>\n",
       "      <th>10MWindow</th>\n",
       "      <th>gt</th>\n",
       "    </tr>\n",
       "  </thead>\n",
       "  <tbody>\n",
       "    <tr>\n",
       "      <th>4032</th>\n",
       "      <td>07:45:00</td>\n",
       "      <td>77.330286</td>\n",
       "      <td>0.515379</td>\n",
       "      <td>120.0</td>\n",
       "      <td>NaN</td>\n",
       "      <td>NaN</td>\n",
       "    </tr>\n",
       "    <tr>\n",
       "      <th>4033</th>\n",
       "      <td>07:45:05</td>\n",
       "      <td>78.199940</td>\n",
       "      <td>0.869654</td>\n",
       "      <td>120.0</td>\n",
       "      <td>NaN</td>\n",
       "      <td>NaN</td>\n",
       "    </tr>\n",
       "    <tr>\n",
       "      <th>4034</th>\n",
       "      <td>07:45:10</td>\n",
       "      <td>78.542758</td>\n",
       "      <td>0.342818</td>\n",
       "      <td>120.0</td>\n",
       "      <td>NaN</td>\n",
       "      <td>NaN</td>\n",
       "    </tr>\n",
       "    <tr>\n",
       "      <th>4035</th>\n",
       "      <td>07:45:15</td>\n",
       "      <td>71.657032</td>\n",
       "      <td>-6.885725</td>\n",
       "      <td>NaN</td>\n",
       "      <td>NaN</td>\n",
       "      <td>NaN</td>\n",
       "    </tr>\n",
       "    <tr>\n",
       "      <th>4036</th>\n",
       "      <td>07:45:20</td>\n",
       "      <td>72.431089</td>\n",
       "      <td>0.774056</td>\n",
       "      <td>120.0</td>\n",
       "      <td>140.0</td>\n",
       "      <td>NaN</td>\n",
       "    </tr>\n",
       "  </tbody>\n",
       "</table>\n",
       "</div>"
      ],
      "text/plain": [
       "        UpTime      angle  angle difference  5MWindow  10MWindow  gt\n",
       "4032  07:45:00  77.330286          0.515379     120.0        NaN NaN\n",
       "4033  07:45:05  78.199940          0.869654     120.0        NaN NaN\n",
       "4034  07:45:10  78.542758          0.342818     120.0        NaN NaN\n",
       "4035  07:45:15  71.657032         -6.885725       NaN        NaN NaN\n",
       "4036  07:45:20  72.431089          0.774056     120.0      140.0 NaN"
      ]
     },
     "execution_count": 30,
     "metadata": {},
     "output_type": "execute_result"
    }
   ],
   "source": [
    "SPT.tail()"
   ]
  },
  {
   "cell_type": "code",
   "execution_count": 31,
   "metadata": {},
   "outputs": [
    {
     "data": {
      "text/html": [
       "<div>\n",
       "<style scoped>\n",
       "    .dataframe tbody tr th:only-of-type {\n",
       "        vertical-align: middle;\n",
       "    }\n",
       "\n",
       "    .dataframe tbody tr th {\n",
       "        vertical-align: top;\n",
       "    }\n",
       "\n",
       "    .dataframe thead th {\n",
       "        text-align: right;\n",
       "    }\n",
       "</style>\n",
       "<table border=\"1\" class=\"dataframe\">\n",
       "  <thead>\n",
       "    <tr style=\"text-align: right;\">\n",
       "      <th></th>\n",
       "      <th>UpTime</th>\n",
       "      <th>angle</th>\n",
       "      <th>angle difference</th>\n",
       "      <th>5MWindow</th>\n",
       "      <th>10MWindow</th>\n",
       "      <th>gt</th>\n",
       "    </tr>\n",
       "  </thead>\n",
       "  <tbody>\n",
       "    <tr>\n",
       "      <th>0</th>\n",
       "      <td>02:09:00</td>\n",
       "      <td>57.167962</td>\n",
       "      <td>8.941413</td>\n",
       "      <td>NaN</td>\n",
       "      <td>NaN</td>\n",
       "      <td>NaN</td>\n",
       "    </tr>\n",
       "    <tr>\n",
       "      <th>1</th>\n",
       "      <td>02:09:05</td>\n",
       "      <td>66.109375</td>\n",
       "      <td>8.941413</td>\n",
       "      <td>NaN</td>\n",
       "      <td>NaN</td>\n",
       "      <td>NaN</td>\n",
       "    </tr>\n",
       "    <tr>\n",
       "      <th>2</th>\n",
       "      <td>02:09:10</td>\n",
       "      <td>72.626686</td>\n",
       "      <td>6.517310</td>\n",
       "      <td>NaN</td>\n",
       "      <td>NaN</td>\n",
       "      <td>NaN</td>\n",
       "    </tr>\n",
       "    <tr>\n",
       "      <th>3</th>\n",
       "      <td>02:09:15</td>\n",
       "      <td>80.808780</td>\n",
       "      <td>8.182095</td>\n",
       "      <td>NaN</td>\n",
       "      <td>NaN</td>\n",
       "      <td>NaN</td>\n",
       "    </tr>\n",
       "    <tr>\n",
       "      <th>4</th>\n",
       "      <td>02:09:20</td>\n",
       "      <td>80.404302</td>\n",
       "      <td>-0.404478</td>\n",
       "      <td>NaN</td>\n",
       "      <td>NaN</td>\n",
       "      <td>NaN</td>\n",
       "    </tr>\n",
       "  </tbody>\n",
       "</table>\n",
       "</div>"
      ],
      "text/plain": [
       "     UpTime      angle  angle difference  5MWindow  10MWindow  gt\n",
       "0  02:09:00  57.167962          8.941413       NaN        NaN NaN\n",
       "1  02:09:05  66.109375          8.941413       NaN        NaN NaN\n",
       "2  02:09:10  72.626686          6.517310       NaN        NaN NaN\n",
       "3  02:09:15  80.808780          8.182095       NaN        NaN NaN\n",
       "4  02:09:20  80.404302         -0.404478       NaN        NaN NaN"
      ]
     },
     "execution_count": 31,
     "metadata": {},
     "output_type": "execute_result"
    }
   ],
   "source": [
    "SPT.head()"
   ]
  },
  {
   "cell_type": "markdown",
   "metadata": {},
   "source": [
    "# Diagrams of arm angle during sleeping period"
   ]
  },
  {
   "cell_type": "code",
   "execution_count": 32,
   "metadata": {},
   "outputs": [],
   "source": [
    "#Set UpTime as an index\n",
    "SPT = SPT.set_index('UpTime')"
   ]
  },
  {
   "cell_type": "code",
   "execution_count": 35,
   "metadata": {},
   "outputs": [
    {
     "data": {
      "text/plain": [
       "<matplotlib.legend.Legend at 0x1eaf5865f70>"
      ]
     },
     "execution_count": 35,
     "metadata": {},
     "output_type": "execute_result"
    },
    {
     "data": {
      "image/png": "[encoded data removed]",
      "text/plain": [
       "<Figure size 2160x864 with 1 Axes>"
      ]
     },
     "metadata": {
      "needs_background": "light"
     },
     "output_type": "display_data"
    }
   ],
   "source": [
    "#diagram1-UpTimevsangle difference\n",
    "ax = SPT.drop(['angle'], axis = 1).plot(figsize = (30,12))\n",
    "ax.axhline(5, linestyle='--', color='r', label='5 degree change')\n",
    "ax.axhline(-5, linestyle='--', color='r')\n",
    "ax.legend()"
   ]
  },
  {
   "cell_type": "code",
   "execution_count": 36,
   "metadata": {
    "scrolled": false
   },
   "outputs": [
    {
     "data": {
      "text/plain": [
       "<matplotlib.legend.Legend at 0x1eaf442f340>"
      ]
     },
     "execution_count": 36,
     "metadata": {},
     "output_type": "execute_result"
    },
    {
     "data": {
      "image/png": "[encoded data removed]",
      "text/plain": [
       "<Figure size 2160x864 with 1 Axes>"
      ]
     },
     "metadata": {
      "needs_background": "light"
     },
     "output_type": "display_data"
    }
   ],
   "source": [
    "#diagram2-UpTimevsangle\n",
    "ax = SPT.drop(['angle difference'], axis = 1).plot(figsize = (30,12))\n",
    "ax.axhline(0, linestyle='--', color='black')\n",
    "ax.legend()"
   ]
  },
  {
   "cell_type": "markdown",
   "metadata": {},
   "source": [
    "# Results"
   ]
  },
  {
   "cell_type": "code",
   "execution_count": 37,
   "metadata": {},
   "outputs": [],
   "source": [
    "#SPT.reset_index(inplace=True)"
   ]
  },
  {
   "cell_type": "code",
   "execution_count": 38,
   "metadata": {},
   "outputs": [],
   "source": [
    "results_5 = SPT['5MWindow'].fillna(0)[SPT['5MWindow'].fillna(0).diff() != 0.0].astype(bool)\n",
    "results_10 = SPT['10MWindow'].fillna(0)[SPT['10MWindow'].fillna(0).diff() != 0.0].astype(bool)\n",
    "results_gt = SPT['gt'].fillna(0)[SPT['gt'].fillna(0).diff() != 0.0].astype(bool)\n"
   ]
  },
  {
   "cell_type": "code",
   "execution_count": 39,
   "metadata": {},
   "outputs": [],
   "source": [
    "#create lists with sleep intervals\n",
    "result5_list = []\n",
    "for i in range(results_5.shape[0] - 1):\n",
    "    result5_list.append([\"{} - {}\".format(str(results_5.index[i]), str(results_5.index[i+1])), results_5[i]])\n",
    "\n",
    "    result10_list = []\n",
    "for i in range(results_10.shape[0] - 1):\n",
    "    result10_list.append([\"{} - {}\".format(str(results_10.index[i]), str(results_10.index[i+1])), results_10[i]])\n",
    "\n",
    "    resultgt_list = []\n",
    "for i in range(results_gt.shape[0] - 1):\n",
    "        resultgt_list.append([\"{} - {}\".format(str(results_gt.index[i]), str(results_gt.index[i+1])), results_gt[i]])"
   ]
  },
  {
   "cell_type": "code",
   "execution_count": 40,
   "metadata": {},
   "outputs": [],
   "source": [
    "#create dataframes with lists\n",
    "results5_df  = pd.DataFrame(result5_list)\n",
    "results10_df  = pd.DataFrame(result10_list)\n",
    "resultsgt_df  = pd.DataFrame(resultgt_list)"
   ]
  },
  {
   "cell_type": "code",
   "execution_count": 41,
   "metadata": {},
   "outputs": [],
   "source": [
    "#Create dataframes with 2 collums\n",
    "results5_df.columns = ['Time', 'Sleep']\n",
    "results10_df.columns = ['Time', 'Sleep']\n",
    "resultsgt_df.columns = ['Time', 'Sleep']"
   ]
  },
  {
   "cell_type": "code",
   "execution_count": 42,
   "metadata": {},
   "outputs": [],
   "source": [
    "#Sleeping or not?\n",
    "results5_df  = results5_df[results5_df['Sleep'] == True]['Time']\n",
    "results10_df  = results10_df[results10_df['Sleep'] == True]['Time']\n",
    "resultsgt_df  = resultsgt_df[resultsgt_df['Sleep'] == True]['Time']"
   ]
  },
  {
   "cell_type": "code",
   "execution_count": 43,
   "metadata": {},
   "outputs": [],
   "source": [
    "#Combine all results in one dataframe\n",
    "SPT_results = pd.concat([results5_df,results10_df, resultsgt_df], ignore_index=True, axis=1)\n",
    "SPT_results.columns = ['5 minutes window', '10 minutes window', 'ground truth']\n",
    "SPT_results = SPT_results.fillna('-').reset_index(drop= True)\n",
    "SPT_results.index.name = 'Time Intervals'"
   ]
  },
  {
   "cell_type": "code",
   "execution_count": 44,
   "metadata": {},
   "outputs": [
    {
     "data": {
      "text/html": [
       "<div>\n",
       "<style scoped>\n",
       "    .dataframe tbody tr th:only-of-type {\n",
       "        vertical-align: middle;\n",
       "    }\n",
       "\n",
       "    .dataframe tbody tr th {\n",
       "        vertical-align: top;\n",
       "    }\n",
       "\n",
       "    .dataframe thead th {\n",
       "        text-align: right;\n",
       "    }\n",
       "</style>\n",
       "<table border=\"1\" class=\"dataframe\">\n",
       "  <thead>\n",
       "    <tr style=\"text-align: right;\">\n",
       "      <th></th>\n",
       "      <th>5 minutes window</th>\n",
       "      <th>10 minutes window</th>\n",
       "      <th>ground truth</th>\n",
       "    </tr>\n",
       "    <tr>\n",
       "      <th>Time Intervals</th>\n",
       "      <th></th>\n",
       "      <th></th>\n",
       "      <th></th>\n",
       "    </tr>\n",
       "  </thead>\n",
       "  <tbody>\n",
       "    <tr>\n",
       "      <th>0</th>\n",
       "      <td>02:27:25 - 03:04:40</td>\n",
       "      <td>02:27:25 - 03:04:40</td>\n",
       "      <td>02:24:05 - 07:31:00</td>\n",
       "    </tr>\n",
       "    <tr>\n",
       "      <th>1</th>\n",
       "      <td>03:04:45 - 03:35:30</td>\n",
       "      <td>03:04:45 - 03:35:30</td>\n",
       "      <td>-</td>\n",
       "    </tr>\n",
       "    <tr>\n",
       "      <th>2</th>\n",
       "      <td>03:37:10 - 03:54:10</td>\n",
       "      <td>03:37:10 - 03:54:10</td>\n",
       "      <td>-</td>\n",
       "    </tr>\n",
       "    <tr>\n",
       "      <th>3</th>\n",
       "      <td>04:00:05 - 04:06:50</td>\n",
       "      <td>04:16:40 - 04:35:20</td>\n",
       "      <td>-</td>\n",
       "    </tr>\n",
       "    <tr>\n",
       "      <th>4</th>\n",
       "      <td>04:07:00 - 04:12:50</td>\n",
       "      <td>04:45:20 - 05:05:25</td>\n",
       "      <td>-</td>\n",
       "    </tr>\n",
       "    <tr>\n",
       "      <th>5</th>\n",
       "      <td>04:16:40 - 04:35:20</td>\n",
       "      <td>05:08:20 - 05:51:45</td>\n",
       "      <td>-</td>\n",
       "    </tr>\n",
       "    <tr>\n",
       "      <th>6</th>\n",
       "      <td>04:40:10 - 04:45:15</td>\n",
       "      <td>06:02:00 - 06:34:00</td>\n",
       "      <td>-</td>\n",
       "    </tr>\n",
       "    <tr>\n",
       "      <th>7</th>\n",
       "      <td>04:45:20 - 05:05:25</td>\n",
       "      <td>06:53:40 - 07:06:20</td>\n",
       "      <td>-</td>\n",
       "    </tr>\n",
       "    <tr>\n",
       "      <th>8</th>\n",
       "      <td>05:08:20 - 05:51:45</td>\n",
       "      <td>-</td>\n",
       "      <td>-</td>\n",
       "    </tr>\n",
       "    <tr>\n",
       "      <th>9</th>\n",
       "      <td>05:55:35 - 06:01:45</td>\n",
       "      <td>-</td>\n",
       "      <td>-</td>\n",
       "    </tr>\n",
       "    <tr>\n",
       "      <th>10</th>\n",
       "      <td>06:02:00 - 06:34:00</td>\n",
       "      <td>-</td>\n",
       "      <td>-</td>\n",
       "    </tr>\n",
       "    <tr>\n",
       "      <th>11</th>\n",
       "      <td>06:34:20 - 06:43:15</td>\n",
       "      <td>-</td>\n",
       "      <td>-</td>\n",
       "    </tr>\n",
       "    <tr>\n",
       "      <th>12</th>\n",
       "      <td>06:43:35 - 06:53:30</td>\n",
       "      <td>-</td>\n",
       "      <td>-</td>\n",
       "    </tr>\n",
       "    <tr>\n",
       "      <th>13</th>\n",
       "      <td>06:53:40 - 07:06:20</td>\n",
       "      <td>-</td>\n",
       "      <td>-</td>\n",
       "    </tr>\n",
       "    <tr>\n",
       "      <th>14</th>\n",
       "      <td>07:24:25 - 07:30:10</td>\n",
       "      <td>-</td>\n",
       "      <td>-</td>\n",
       "    </tr>\n",
       "    <tr>\n",
       "      <th>15</th>\n",
       "      <td>07:39:55 - 07:45:15</td>\n",
       "      <td>-</td>\n",
       "      <td>-</td>\n",
       "    </tr>\n",
       "  </tbody>\n",
       "</table>\n",
       "</div>"
      ],
      "text/plain": [
       "                   5 minutes window    10 minutes window         ground truth\n",
       "Time Intervals                                                               \n",
       "0               02:27:25 - 03:04:40  02:27:25 - 03:04:40  02:24:05 - 07:31:00\n",
       "1               03:04:45 - 03:35:30  03:04:45 - 03:35:30                    -\n",
       "2               03:37:10 - 03:54:10  03:37:10 - 03:54:10                    -\n",
       "3               04:00:05 - 04:06:50  04:16:40 - 04:35:20                    -\n",
       "4               04:07:00 - 04:12:50  04:45:20 - 05:05:25                    -\n",
       "5               04:16:40 - 04:35:20  05:08:20 - 05:51:45                    -\n",
       "6               04:40:10 - 04:45:15  06:02:00 - 06:34:00                    -\n",
       "7               04:45:20 - 05:05:25  06:53:40 - 07:06:20                    -\n",
       "8               05:08:20 - 05:51:45                    -                    -\n",
       "9               05:55:35 - 06:01:45                    -                    -\n",
       "10              06:02:00 - 06:34:00                    -                    -\n",
       "11              06:34:20 - 06:43:15                    -                    -\n",
       "12              06:43:35 - 06:53:30                    -                    -\n",
       "13              06:53:40 - 07:06:20                    -                    -\n",
       "14              07:24:25 - 07:30:10                    -                    -\n",
       "15              07:39:55 - 07:45:15                    -                    -"
      ]
     },
     "execution_count": 44,
     "metadata": {},
     "output_type": "execute_result"
    }
   ],
   "source": [
    "SPT_results"
   ]
  },
  {
   "cell_type": "markdown",
   "metadata": {},
   "source": [
    "# Metric Score (M)"
   ]
  },
  {
   "cell_type": "code",
   "execution_count": null,
   "metadata": {},
   "outputs": [],
   "source": [
    "#Metric based on distance\n",
    "SPT['5MWindow']=SPT['5MWindow'].fillna(0)\n",
    "SPT['10MWindow']=SPT['10MWindow'].fillna(0)\n",
    "SPT['gt'] = SPT['gt'].fillna(0)\n",
    "dist5= (SPT['5MWindow'] - SPT['gt']).abs()\n",
    "dist10= (SPT['10MWindow'] - SPT['gt']).abs()"
   ]
  },
  {
   "cell_type": "code",
   "execution_count": null,
   "metadata": {},
   "outputs": [],
   "source": [
    "#true values=(20,0)\n",
    "#false values=(120,100)\n",
    "dist5.value_counts()"
   ]
  },
  {
   "cell_type": "code",
   "execution_count": null,
   "metadata": {},
   "outputs": [],
   "source": [
    "#true values=(20,0)\n",
    "#false values=(120,100)\n",
    "dist10.value_counts()"
   ]
  },
  {
   "cell_type": "code",
   "execution_count": null,
   "metadata": {},
   "outputs": [],
   "source": [
    "#Count the false values\n",
    "False_values5=(dist5.values==100).sum() + (dist5.values==120).sum()\n",
    "False_values10=(dist10.values==140).sum() + (dist10.values==100).sum()"
   ]
  },
  {
   "cell_type": "code",
   "execution_count": null,
   "metadata": {},
   "outputs": [],
   "source": [
    "#Calculate errors (false_values/5S divided by all values/5S)\n",
    "M5=(False_values5/SPT.shape[0])*100\n",
    "M10=(False_values10/SPT.shape[0])*100\n",
    "print(M5,M10)"
   ]
  },
  {
   "cell_type": "code",
   "execution_count": null,
   "metadata": {},
   "outputs": [],
   "source": []
  }
 ],
 "metadata": {
  "kernelspec": {
   "display_name": "Python 3 (ipykernel)",
   "language": "python",
   "name": "python3"
  },
  "language_info": {
   "codemirror_mode": {
    "name": "ipython",
    "version": 3
   },
   "file_extension": ".py",
   "mimetype": "text/x-python",
   "name": "python",
   "nbconvert_exporter": "python",
   "pygments_lexer": "ipython3",
   "version": "3.9.12"
  }
 },
 "nbformat": 4,
 "nbformat_minor": 4
}
