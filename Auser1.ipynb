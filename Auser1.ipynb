{
 "cells": [
  {
   "cell_type": "code",
   "execution_count": 4,
   "metadata": {},
   "outputs": [],
   "source": [
    "#Import libraries\n",
    "import matplotlib.pyplot as plt\n",
    "import numpy as np\n",
    "import pickle\n",
    "import seaborn as sns\n",
    "import pandas as pd\n",
    "import matplotlib.ticker as mticker\n",
    "import matplotlib.dates as md\n",
    "import datetime as dt\n",
    "from scipy import stats\n",
    "import math "
   ]
  },
  {
   "cell_type": "code",
   "execution_count": 5,
   "metadata": {},
   "outputs": [],
   "source": [
    "#Import data\n",
    "#df5 = pd.read_csv('data/AccelerometerData_103_04_06_19.txt')  \n",
    "#df6 = pd.read_csv('AccelerometerData_103_05_06_19.txt') \n",
    "df2 = pd.read_csv('data/AccelerometerData_101_31_05_19.txt')  \n",
    "#df4 = pd.read_csv('AccelerometerData_102_03_06_19.txt') \n",
    "df1 = pd.read_csv('data/AccelerometerData_101_30_05_19.txt') \n",
    "#df3 = pd.read_csv('AccelerometerData_102_02_06_19.txt') "
   ]
  },
  {
   "cell_type": "code",
   "execution_count": 6,
   "metadata": {},
   "outputs": [
    {
     "data": {
      "text/html": [
       "<div>\n",
       "<style scoped>\n",
       "    .dataframe tbody tr th:only-of-type {\n",
       "        vertical-align: middle;\n",
       "    }\n",
       "\n",
       "    .dataframe tbody tr th {\n",
       "        vertical-align: top;\n",
       "    }\n",
       "\n",
       "    .dataframe thead th {\n",
       "        text-align: right;\n",
       "    }\n",
       "</style>\n",
       "<table border=\"1\" class=\"dataframe\">\n",
       "  <thead>\n",
       "    <tr style=\"text-align: right;\">\n",
       "      <th></th>\n",
       "      <th>UTC_Time</th>\n",
       "      <th>UpTime</th>\n",
       "      <th>Value1</th>\n",
       "      <th>Value2</th>\n",
       "      <th>Value3</th>\n",
       "    </tr>\n",
       "  </thead>\n",
       "  <tbody>\n",
       "    <tr>\n",
       "      <th>0</th>\n",
       "      <td>2:20:39 AM</td>\n",
       "      <td>524</td>\n",
       "      <td>-0.583849</td>\n",
       "      <td>1.450050</td>\n",
       "      <td>9.635897</td>\n",
       "    </tr>\n",
       "    <tr>\n",
       "      <th>1</th>\n",
       "      <td>2:20:39 AM</td>\n",
       "      <td>541</td>\n",
       "      <td>-0.569492</td>\n",
       "      <td>1.469193</td>\n",
       "      <td>9.655040</td>\n",
       "    </tr>\n",
       "    <tr>\n",
       "      <th>2</th>\n",
       "      <td>2:20:39 AM</td>\n",
       "      <td>557</td>\n",
       "      <td>-0.562313</td>\n",
       "      <td>1.502693</td>\n",
       "      <td>9.652647</td>\n",
       "    </tr>\n",
       "    <tr>\n",
       "      <th>3</th>\n",
       "      <td>2:20:39 AM</td>\n",
       "      <td>574</td>\n",
       "      <td>-0.564706</td>\n",
       "      <td>1.521835</td>\n",
       "      <td>9.659825</td>\n",
       "    </tr>\n",
       "    <tr>\n",
       "      <th>4</th>\n",
       "      <td>2:20:39 AM</td>\n",
       "      <td>589</td>\n",
       "      <td>-0.569492</td>\n",
       "      <td>1.517050</td>\n",
       "      <td>9.662218</td>\n",
       "    </tr>\n",
       "    <tr>\n",
       "      <th>...</th>\n",
       "      <td>...</td>\n",
       "      <td>...</td>\n",
       "      <td>...</td>\n",
       "      <td>...</td>\n",
       "      <td>...</td>\n",
       "    </tr>\n",
       "    <tr>\n",
       "      <th>414441</th>\n",
       "      <td>7:54:57 AM</td>\n",
       "      <td>20058353</td>\n",
       "      <td>-3.337988</td>\n",
       "      <td>2.242075</td>\n",
       "      <td>9.075976</td>\n",
       "    </tr>\n",
       "    <tr>\n",
       "      <th>414442</th>\n",
       "      <td>7:54:57 AM</td>\n",
       "      <td>20058355</td>\n",
       "      <td>-3.467200</td>\n",
       "      <td>2.203790</td>\n",
       "      <td>9.253045</td>\n",
       "    </tr>\n",
       "    <tr>\n",
       "      <th>414443</th>\n",
       "      <td>7:54:57 AM</td>\n",
       "      <td>20058357</td>\n",
       "      <td>-3.620341</td>\n",
       "      <td>1.931008</td>\n",
       "      <td>9.236296</td>\n",
       "    </tr>\n",
       "    <tr>\n",
       "      <th>414444</th>\n",
       "      <td>7:54:57 AM</td>\n",
       "      <td>20058369</td>\n",
       "      <td>-3.701697</td>\n",
       "      <td>1.808974</td>\n",
       "      <td>9.126225</td>\n",
       "    </tr>\n",
       "    <tr>\n",
       "      <th>414445</th>\n",
       "      <td>7:54:57 AM</td>\n",
       "      <td>20058374</td>\n",
       "      <td>-3.677768</td>\n",
       "      <td>1.986043</td>\n",
       "      <td>9.042477</td>\n",
       "    </tr>\n",
       "  </tbody>\n",
       "</table>\n",
       "<p>414446 rows × 5 columns</p>\n",
       "</div>"
      ],
      "text/plain": [
       "          UTC_Time    UpTime    Value1    Value2    Value3\n",
       "0       2:20:39 AM       524 -0.583849  1.450050  9.635897\n",
       "1       2:20:39 AM       541 -0.569492  1.469193  9.655040\n",
       "2       2:20:39 AM       557 -0.562313  1.502693  9.652647\n",
       "3       2:20:39 AM       574 -0.564706  1.521835  9.659825\n",
       "4       2:20:39 AM       589 -0.569492  1.517050  9.662218\n",
       "...            ...       ...       ...       ...       ...\n",
       "414441  7:54:57 AM  20058353 -3.337988  2.242075  9.075976\n",
       "414442  7:54:57 AM  20058355 -3.467200  2.203790  9.253045\n",
       "414443  7:54:57 AM  20058357 -3.620341  1.931008  9.236296\n",
       "414444  7:54:57 AM  20058369 -3.701697  1.808974  9.126225\n",
       "414445  7:54:57 AM  20058374 -3.677768  1.986043  9.042477\n",
       "\n",
       "[414446 rows x 5 columns]"
      ]
     },
     "execution_count": 6,
     "metadata": {},
     "output_type": "execute_result"
    }
   ],
   "source": [
    "df1"
   ]
  },
  {
   "cell_type": "code",
   "execution_count": 4,
   "metadata": {},
   "outputs": [],
   "source": [
    "# data seperation for each participant and create a list for all datasets\n",
    "Participant1=[df1,df2]\n",
    "Participant2=[df3,df4]\n",
    "Participant3=[df5,df6]\n",
    "Participants=[Participant1,Participant2,Participant3]\n",
    "df=[df1,df2,df3,df4,df5,df6]"
   ]
  },
  {
   "cell_type": "code",
   "execution_count": 5,
   "metadata": {},
   "outputs": [
    {
     "data": {
      "text/html": [
       "<div>\n",
       "<style scoped>\n",
       "    .dataframe tbody tr th:only-of-type {\n",
       "        vertical-align: middle;\n",
       "    }\n",
       "\n",
       "    .dataframe tbody tr th {\n",
       "        vertical-align: top;\n",
       "    }\n",
       "\n",
       "    .dataframe thead th {\n",
       "        text-align: right;\n",
       "    }\n",
       "</style>\n",
       "<table border=\"1\" class=\"dataframe\">\n",
       "  <thead>\n",
       "    <tr style=\"text-align: right;\">\n",
       "      <th></th>\n",
       "      <th>UTC_Time</th>\n",
       "      <th>UpTime</th>\n",
       "      <th>Value1</th>\n",
       "      <th>Value2</th>\n",
       "      <th>Value3</th>\n",
       "    </tr>\n",
       "  </thead>\n",
       "  <tbody>\n",
       "    <tr>\n",
       "      <th>0</th>\n",
       "      <td>2:20:39 AM</td>\n",
       "      <td>524</td>\n",
       "      <td>-0.583849</td>\n",
       "      <td>1.450050</td>\n",
       "      <td>9.635897</td>\n",
       "    </tr>\n",
       "    <tr>\n",
       "      <th>1</th>\n",
       "      <td>2:20:39 AM</td>\n",
       "      <td>541</td>\n",
       "      <td>-0.569492</td>\n",
       "      <td>1.469193</td>\n",
       "      <td>9.655040</td>\n",
       "    </tr>\n",
       "    <tr>\n",
       "      <th>2</th>\n",
       "      <td>2:20:39 AM</td>\n",
       "      <td>557</td>\n",
       "      <td>-0.562313</td>\n",
       "      <td>1.502693</td>\n",
       "      <td>9.652647</td>\n",
       "    </tr>\n",
       "    <tr>\n",
       "      <th>3</th>\n",
       "      <td>2:20:39 AM</td>\n",
       "      <td>574</td>\n",
       "      <td>-0.564706</td>\n",
       "      <td>1.521835</td>\n",
       "      <td>9.659825</td>\n",
       "    </tr>\n",
       "    <tr>\n",
       "      <th>4</th>\n",
       "      <td>2:20:39 AM</td>\n",
       "      <td>589</td>\n",
       "      <td>-0.569492</td>\n",
       "      <td>1.517050</td>\n",
       "      <td>9.662218</td>\n",
       "    </tr>\n",
       "  </tbody>\n",
       "</table>\n",
       "</div>"
      ],
      "text/plain": [
       "     UTC_Time  UpTime    Value1    Value2    Value3\n",
       "0  2:20:39 AM     524 -0.583849  1.450050  9.635897\n",
       "1  2:20:39 AM     541 -0.569492  1.469193  9.655040\n",
       "2  2:20:39 AM     557 -0.562313  1.502693  9.652647\n",
       "3  2:20:39 AM     574 -0.564706  1.521835  9.659825\n",
       "4  2:20:39 AM     589 -0.569492  1.517050  9.662218"
      ]
     },
     "execution_count": 5,
     "metadata": {},
     "output_type": "execute_result"
    }
   ],
   "source": [
    "df[0].head()"
   ]
  },
  {
   "cell_type": "code",
   "execution_count": 6,
   "metadata": {},
   "outputs": [],
   "source": [
    "df=df[0]"
   ]
  },
  {
   "cell_type": "markdown",
   "metadata": {},
   "source": [
    "# Summary Statistics"
   ]
  },
  {
   "cell_type": "code",
   "execution_count": 7,
   "metadata": {},
   "outputs": [
    {
     "name": "stdout",
     "output_type": "stream",
     "text": [
      "Earliest date: 2:20:39 AM\n",
      "Latest date: 7:54:57 AM\n",
      "Min of ax: -20.970697\n",
      "Min of ay: -26.82115\n",
      "Min of az: -14.13201\n",
      "Max of ax: 18.151953\n",
      "Max of ay: 30.592237\n",
      "Max of az: 20.484955\n"
     ]
    }
   ],
   "source": [
    "print('Earliest date:',df.UTC_Time.min())\n",
    "print('Latest date:',df.UTC_Time.max())\n",
    "print('Min of ax:',df.Value1.min())\n",
    "print('Min of ay:',df.Value2.min())\n",
    "print('Min of az:',df.Value3.min())\n",
    "print('Max of ax:',df.Value1.max())\n",
    "print('Max of ay:',df.Value2.max())\n",
    "print('Max of az:',df.Value3.max())"
   ]
  },
  {
   "cell_type": "code",
   "execution_count": 8,
   "metadata": {},
   "outputs": [
    {
     "name": "stdout",
     "output_type": "stream",
     "text": [
      "Mean value of ax for all users:0\n",
      "Mean value of ay for all users:-2\n",
      "Mean value of az for all users:6\n"
     ]
    }
   ],
   "source": [
    "print('Mean value of ax for all users:%i'%np.mean(df.Value1))\n",
    "print('Mean value of ay for all users:%i'%np.mean(df.Value2))\n",
    "print('Mean value of az for all users:%i'%np.mean(df.Value3))"
   ]
  },
  {
   "cell_type": "markdown",
   "metadata": {},
   "source": [
    "# Distribution Analysis of Values"
   ]
  },
  {
   "cell_type": "code",
   "execution_count": 9,
   "metadata": {},
   "outputs": [],
   "source": [
    "from distfit import distfit"
   ]
  },
  {
   "cell_type": "code",
   "execution_count": null,
   "metadata": {},
   "outputs": [],
   "source": [
    "dist = distfit()\n",
    "dist.fit_transform(df['Value1'] )\n",
    "dist.plot(figsize=(10,5));"
   ]
  },
  {
   "cell_type": "code",
   "execution_count": null,
   "metadata": {},
   "outputs": [],
   "source": [
    "dist = distfit()\n",
    "dist.fit_transform(df['Value2'] )\n",
    "dist.plot(figsize=(10,5));"
   ]
  },
  {
   "cell_type": "code",
   "execution_count": null,
   "metadata": {},
   "outputs": [],
   "source": [
    "dist = distfit()\n",
    "dist.fit_transform(df['Value3'] )\n",
    "dist.plot(figsize=(10,5));"
   ]
  },
  {
   "cell_type": "markdown",
   "metadata": {},
   "source": [
    "# Preprocessing"
   ]
  },
  {
   "cell_type": "code",
   "execution_count": 10,
   "metadata": {},
   "outputs": [],
   "source": [
    "# Remove spikes \n",
    "df = df[(np.abs(stats.zscore(df.iloc[:,2:5])) < 3).all(axis=1)]"
   ]
  },
  {
   "cell_type": "code",
   "execution_count": 11,
   "metadata": {},
   "outputs": [],
   "source": [
    "#Convert UpTime to timedelta(ms)\n",
    "df['UpTime'] = pd.to_timedelta(df['UpTime'], 'ms')"
   ]
  },
  {
   "cell_type": "code",
   "execution_count": 12,
   "metadata": {},
   "outputs": [],
   "source": [
    "#Resample data in 20Hz\n",
    "df=df.resample('50ms', on='UpTime').mean()\n",
    "df = df.fillna(method = 'ffill')"
   ]
  },
  {
   "cell_type": "code",
   "execution_count": 13,
   "metadata": {},
   "outputs": [],
   "source": [
    "# Rolling 5 sec medians value1,2,3\n",
    "df['Value1']=df['Value1'].rolling(window=100,min_periods=1).median()\n",
    "df['Value2']=df['Value2'].rolling(window=100,min_periods=1).median()\n",
    "df['Value3']=df['Value3'].rolling(window=100,min_periods=1).median()"
   ]
  },
  {
   "cell_type": "code",
   "execution_count": 14,
   "metadata": {},
   "outputs": [
    {
     "data": {
      "text/html": [
       "<div>\n",
       "<style scoped>\n",
       "    .dataframe tbody tr th:only-of-type {\n",
       "        vertical-align: middle;\n",
       "    }\n",
       "\n",
       "    .dataframe tbody tr th {\n",
       "        vertical-align: top;\n",
       "    }\n",
       "\n",
       "    .dataframe thead th {\n",
       "        text-align: right;\n",
       "    }\n",
       "</style>\n",
       "<table border=\"1\" class=\"dataframe\">\n",
       "  <thead>\n",
       "    <tr style=\"text-align: right;\">\n",
       "      <th></th>\n",
       "      <th>Value1</th>\n",
       "      <th>Value2</th>\n",
       "      <th>Value3</th>\n",
       "    </tr>\n",
       "    <tr>\n",
       "      <th>UpTime</th>\n",
       "      <th></th>\n",
       "      <th></th>\n",
       "      <th></th>\n",
       "    </tr>\n",
       "  </thead>\n",
       "  <tbody>\n",
       "    <tr>\n",
       "      <th>0 days 00:00:00.524000</th>\n",
       "      <td>-0.571885</td>\n",
       "      <td>1.473979</td>\n",
       "      <td>9.647861</td>\n",
       "    </tr>\n",
       "    <tr>\n",
       "      <th>0 days 00:00:00.574000</th>\n",
       "      <td>-0.569492</td>\n",
       "      <td>1.496711</td>\n",
       "      <td>9.654441</td>\n",
       "    </tr>\n",
       "    <tr>\n",
       "      <th>0 days 00:00:00.624000</th>\n",
       "      <td>-0.571885</td>\n",
       "      <td>1.497907</td>\n",
       "      <td>9.653843</td>\n",
       "    </tr>\n",
       "    <tr>\n",
       "      <th>0 days 00:00:00.674000</th>\n",
       "      <td>-0.576072</td>\n",
       "      <td>1.508675</td>\n",
       "      <td>9.653843</td>\n",
       "    </tr>\n",
       "    <tr>\n",
       "      <th>0 days 00:00:00.724000</th>\n",
       "      <td>-0.580259</td>\n",
       "      <td>1.519442</td>\n",
       "      <td>9.653843</td>\n",
       "    </tr>\n",
       "  </tbody>\n",
       "</table>\n",
       "</div>"
      ],
      "text/plain": [
       "                          Value1    Value2    Value3\n",
       "UpTime                                              \n",
       "0 days 00:00:00.524000 -0.571885  1.473979  9.647861\n",
       "0 days 00:00:00.574000 -0.569492  1.496711  9.654441\n",
       "0 days 00:00:00.624000 -0.571885  1.497907  9.653843\n",
       "0 days 00:00:00.674000 -0.576072  1.508675  9.653843\n",
       "0 days 00:00:00.724000 -0.580259  1.519442  9.653843"
      ]
     },
     "execution_count": 14,
     "metadata": {},
     "output_type": "execute_result"
    }
   ],
   "source": [
    "df.head()"
   ]
  },
  {
   "cell_type": "markdown",
   "metadata": {},
   "source": [
    "# Calculate Angle"
   ]
  },
  {
   "cell_type": "code",
   "execution_count": 15,
   "metadata": {},
   "outputs": [],
   "source": [
    "#Calculate angle\n",
    "df['angle'] = np.arctan(df[\"Value3\"] / np.sqrt( np.square(df[\"Value1\"]) + np.square(df[\"Value2\"]))) * 180 / np.pi"
   ]
  },
  {
   "cell_type": "code",
   "execution_count": 16,
   "metadata": {},
   "outputs": [
    {
     "name": "stdout",
     "output_type": "stream",
     "text": [
      "Min of angle: -41.23853482865258\n",
      "Max of angle: 88.78417235494518\n",
      "Mean of angle: 44.078380999909896\n"
     ]
    }
   ],
   "source": [
    "#Statistics about angle\n",
    "print('Min of angle:',df.angle.min())\n",
    "print('Max of angle:',df.angle.max())\n",
    "print('Mean of angle:',df.angle.mean())"
   ]
  },
  {
   "cell_type": "code",
   "execution_count": 17,
   "metadata": {},
   "outputs": [
    {
     "name": "stdout",
     "output_type": "stream",
     "text": [
      "[distfit] >fit..\n",
      "[distfit] >transform..\n",
      "[distfit] >[norm      ] [0.00 sec] [RSS: 0.00906602] [loc=44.078 scale=27.793]\n",
      "[distfit] >[expon     ] [0.00 sec] [RSS: 0.0123067] [loc=-41.239 scale=85.317]\n",
      "[distfit] >[pareto    ] [13.2 sec] [RSS: 0.0119666] [loc=-6609591025.353 scale=6609590984.114]\n",
      "[distfit] >[dweibull  ] [15.5 sec] [RSS: 0.00465406] [loc=55.513 scale=21.716]\n",
      "[distfit] >[t         ] [9.36 sec] [RSS: 0.00557408] [loc=55.140 scale=8.146]\n",
      "[distfit] >[genextreme] [15.2 sec] [RSS: 0.00842311] [loc=38.202 scale=28.832]\n",
      "[distfit] >[gamma     ] [7.26 sec] [RSS: 0.0157828] [loc=-41.239 scale=3.193]\n",
      "[distfit] >[lognorm   ] [17.9 sec] [RSS: 0.0131746] [loc=-41.239 scale=1.807]\n",
      "[distfit] >[beta      ] [10.5 sec] [RSS: 0.0106457] [loc=-44.096 scale=132.881]\n",
      "[distfit] >[uniform   ] [0.00 sec] [RSS: 0.0107327] [loc=-41.239 scale=130.023]\n",
      "[distfit] >[loggamma  ] [2.19 sec] [RSS: 0.00735408] [loc=68.204 scale=9.650]\n",
      "[distfit] >Compute confidence interval [parametric]\n",
      "[distfit] >plot..\n"
     ]
    },
    {
     "data": {
      "image/png": "[encoded data removed]",
      "text/plain": [
       "<Figure size 720x360 with 1 Axes>"
      ]
     },
     "metadata": {
      "needs_background": "light"
     },
     "output_type": "display_data"
    }
   ],
   "source": [
    "#Distribution of Angle\n",
    "dist = distfit()\n",
    "dist.fit_transform(df['angle'] )\n",
    "dist.plot(figsize=(10,5));"
   ]
  },
  {
   "cell_type": "code",
   "execution_count": 18,
   "metadata": {},
   "outputs": [],
   "source": [
    "# Reset UpTime\n",
    "df.reset_index(inplace=True)"
   ]
  },
  {
   "cell_type": "code",
   "execution_count": 19,
   "metadata": {},
   "outputs": [
    {
     "data": {
      "text/html": [
       "<div>\n",
       "<style scoped>\n",
       "    .dataframe tbody tr th:only-of-type {\n",
       "        vertical-align: middle;\n",
       "    }\n",
       "\n",
       "    .dataframe tbody tr th {\n",
       "        vertical-align: top;\n",
       "    }\n",
       "\n",
       "    .dataframe thead th {\n",
       "        text-align: right;\n",
       "    }\n",
       "</style>\n",
       "<table border=\"1\" class=\"dataframe\">\n",
       "  <thead>\n",
       "    <tr style=\"text-align: right;\">\n",
       "      <th></th>\n",
       "      <th>UpTime</th>\n",
       "      <th>Value1</th>\n",
       "      <th>Value2</th>\n",
       "      <th>Value3</th>\n",
       "      <th>angle</th>\n",
       "    </tr>\n",
       "  </thead>\n",
       "  <tbody>\n",
       "    <tr>\n",
       "      <th>0</th>\n",
       "      <td>0 days 00:00:00.524000</td>\n",
       "      <td>-0.571885</td>\n",
       "      <td>1.473979</td>\n",
       "      <td>9.647861</td>\n",
       "      <td>80.693435</td>\n",
       "    </tr>\n",
       "    <tr>\n",
       "      <th>1</th>\n",
       "      <td>0 days 00:00:00.574000</td>\n",
       "      <td>-0.569492</td>\n",
       "      <td>1.496711</td>\n",
       "      <td>9.654441</td>\n",
       "      <td>80.582026</td>\n",
       "    </tr>\n",
       "    <tr>\n",
       "      <th>2</th>\n",
       "      <td>0 days 00:00:00.624000</td>\n",
       "      <td>-0.571885</td>\n",
       "      <td>1.497907</td>\n",
       "      <td>9.653843</td>\n",
       "      <td>80.570073</td>\n",
       "    </tr>\n",
       "    <tr>\n",
       "      <th>3</th>\n",
       "      <td>0 days 00:00:00.674000</td>\n",
       "      <td>-0.576072</td>\n",
       "      <td>1.508675</td>\n",
       "      <td>9.653843</td>\n",
       "      <td>80.503359</td>\n",
       "    </tr>\n",
       "    <tr>\n",
       "      <th>4</th>\n",
       "      <td>0 days 00:00:00.724000</td>\n",
       "      <td>-0.580259</td>\n",
       "      <td>1.519442</td>\n",
       "      <td>9.653843</td>\n",
       "      <td>80.436671</td>\n",
       "    </tr>\n",
       "  </tbody>\n",
       "</table>\n",
       "</div>"
      ],
      "text/plain": [
       "                  UpTime    Value1    Value2    Value3      angle\n",
       "0 0 days 00:00:00.524000 -0.571885  1.473979  9.647861  80.693435\n",
       "1 0 days 00:00:00.574000 -0.569492  1.496711  9.654441  80.582026\n",
       "2 0 days 00:00:00.624000 -0.571885  1.497907  9.653843  80.570073\n",
       "3 0 days 00:00:00.674000 -0.576072  1.508675  9.653843  80.503359\n",
       "4 0 days 00:00:00.724000 -0.580259  1.519442  9.653843  80.436671"
      ]
     },
     "execution_count": 19,
     "metadata": {},
     "output_type": "execute_result"
    }
   ],
   "source": [
    "df.head()"
   ]
  },
  {
   "cell_type": "markdown",
   "metadata": {},
   "source": [
    "# Van Hess, 2015"
   ]
  },
  {
   "cell_type": "code",
   "execution_count": 20,
   "metadata": {},
   "outputs": [],
   "source": [
    "#create a new dataframe with essential collumns\n",
    "SPT = df[['UpTime', 'angle']]"
   ]
  },
  {
   "cell_type": "code",
   "execution_count": 21,
   "metadata": {},
   "outputs": [],
   "source": [
    "#Average angle per 5S\n",
    "SPT=SPT.resample('5S', on='UpTime').mean()"
   ]
  },
  {
   "cell_type": "code",
   "execution_count": 22,
   "metadata": {},
   "outputs": [],
   "source": [
    "#calculate angle differences\n",
    "SPT['angle difference'] = SPT['angle'].diff().fillna(method = 'bfill')"
   ]
  },
  {
   "cell_type": "code",
   "execution_count": 23,
   "metadata": {},
   "outputs": [
    {
     "name": "stdout",
     "output_type": "stream",
     "text": [
      "Min of angle diff: -60.93557485167898\n",
      "Max of angle diff: 58.75900501274952\n",
      "Mean of angle diff: -0.0060304792283639675\n"
     ]
    }
   ],
   "source": [
    "#Statistics about angle difference\n",
    "print('Min of angle diff:',SPT['angle difference'].min())\n",
    "print('Max of angle diff:',SPT['angle difference'].max())\n",
    "print('Mean of angle diff:',SPT['angle difference'].mean())"
   ]
  },
  {
   "cell_type": "code",
   "execution_count": 24,
   "metadata": {},
   "outputs": [
    {
     "name": "stdout",
     "output_type": "stream",
     "text": [
      "[distfit] >fit..\n",
      "[distfit] >transform..\n",
      "[distfit] >[norm      ] [0.00 sec] [RSS: 0.103864] [loc=-0.006 scale=4.981]\n",
      "[distfit] >[expon     ] [0.00 sec] [RSS: 0.141655] [loc=-60.936 scale=60.930]\n",
      "[distfit] >[pareto    ] [0.16 sec] [RSS: 0.141141] [loc=-1553478151.717 scale=1553478090.781]\n",
      "[distfit] >[dweibull  ] [0.16 sec] [RSS: 0.0270991] [loc=-0.007 scale=0.103]\n",
      "[distfit] >[t         ] [0.04 sec] [RSS: 0.00580752] [loc=-0.001 scale=0.010]\n",
      "[distfit] >[genextreme] [0.33 sec] [RSS: 0.137093] [loc=-2.565 scale=29.998]\n",
      "[distfit] >[gamma     ] [0.09 sec] [RSS: 0.105234] [loc=-130.645 scale=0.203]\n",
      "[distfit] >[lognorm   ] [0.20 sec] [RSS: 0.103841] [loc=-972.400 scale=972.379]\n",
      "[distfit] >[beta      ] [0.19 sec] [RSS: 0.103863] [loc=-1281.283 scale=3152.093]\n",
      "[distfit] >[uniform   ] [0.0 sec] [RSS: 0.139859] [loc=-60.936 scale=119.695]\n",
      "[distfit] >[loggamma  ] [0.09 sec] [RSS: 0.105033] [loc=-1676.146 scale=222.467]\n",
      "[distfit] >Compute confidence interval [parametric]\n",
      "[distfit] >plot..\n"
     ]
    },
    {
     "data": {
      "image/png": "[encoded data removed]",
      "text/plain": [
       "<Figure size 720x360 with 1 Axes>"
      ]
     },
     "metadata": {
      "needs_background": "light"
     },
     "output_type": "display_data"
    }
   ],
   "source": [
    "#Distribution of Angle\n",
    "dist = distfit()\n",
    "dist.fit_transform(SPT['angle difference'] )\n",
    "dist.plot(figsize=(10,5));"
   ]
  },
  {
   "cell_type": "code",
   "execution_count": null,
   "metadata": {},
   "outputs": [],
   "source": [
    "SPT.head()"
   ]
  },
  {
   "cell_type": "markdown",
   "metadata": {},
   "source": [
    "# Detect inactivity"
   ]
  },
  {
   "cell_type": "code",
   "execution_count": null,
   "metadata": {},
   "outputs": [],
   "source": [
    "#create 2 booltype columns for 5 and 10 minutes windows and detect arms changes\n",
    "SPT['5MWindow'] = SPT['angle difference'].apply(lambda x: abs(x) < 5)\n",
    "SPT['10MWindow'] = SPT['angle difference'].apply(lambda x: abs(x) < 5)"
   ]
  },
  {
   "cell_type": "code",
   "execution_count": null,
   "metadata": {},
   "outputs": [],
   "source": [
    "SPT.head()"
   ]
  },
  {
   "cell_type": "code",
   "execution_count": null,
   "metadata": {},
   "outputs": [],
   "source": [
    "#index arrays where angle change is bigger than 5 degrees    \n",
    "index_5 = SPT['5MWindow'][SPT['5MWindow']==False].index\n",
    "index_10 = SPT['10MWindow'][SPT['10MWindow']==False].index"
   ]
  },
  {
   "cell_type": "code",
   "execution_count": null,
   "metadata": {},
   "outputs": [],
   "source": [
    "#Detect if someone sleeping or not  (True if time is bigger than 5 or 10 minutes)\n",
    "for i in range(index_5.shape[0] - 1):\n",
    "    if (index_5[i+1] - index_5[i] > dt.timedelta(seconds = 300)):\n",
    "            SPT['5MWindow'].loc[index_5[i]+dt.timedelta(seconds = 5):index_5[i+1]-dt.timedelta(seconds = 5)] = True\n",
    "    else:\n",
    "            SPT['5MWindow'].loc[index_5[i]+dt.timedelta(seconds = 5):index_5[i+1]-dt.timedelta(seconds = 5)] = False\n",
    "            \n",
    "\n",
    "for i in range(index_10.shape[0] - 1):\n",
    "    if (index_10[i+1] - index_10[i] > dt.timedelta(seconds = 600)):\n",
    "            SPT['10MWindow'].loc[index_10[i]+dt.timedelta(seconds = 5):index_10[i+1]-dt.timedelta(seconds = 5)] = True\n",
    "    else:\n",
    "            SPT['10MWindow'].loc[index_10[i]+dt.timedelta(seconds = 5):index_10[i+1]-dt.timedelta(seconds = 5)] = False"
   ]
  },
  {
   "cell_type": "code",
   "execution_count": null,
   "metadata": {},
   "outputs": [],
   "source": [
    "#Set upTime as an index\n",
    "SPT.reset_index(inplace=True)"
   ]
  },
  {
   "cell_type": "code",
   "execution_count": null,
   "metadata": {},
   "outputs": [],
   "source": [
    "#Replace T/F with values helps in diagrams\n",
    "SPT['5MWindow']  = SPT['5MWindow'].apply(lambda x: 120 if x == 1 else  np.NaN)\n",
    "SPT['10MWindow']  = SPT['10MWindow'].apply(lambda x: 140 if x == 1 else np.NaN)"
   ]
  },
  {
   "cell_type": "code",
   "execution_count": null,
   "metadata": {},
   "outputs": [],
   "source": [
    "SPT.head(10)"
   ]
  },
  {
   "cell_type": "markdown",
   "metadata": {},
   "source": [
    "# Import GroundTruth"
   ]
  },
  {
   "cell_type": "code",
   "execution_count": null,
   "metadata": {},
   "outputs": [],
   "source": [
    "# sleep log diary as groundtrouth\n",
    "ground_truth = pd.read_excel('SleepLog.xlsx')\n",
    "ground_truth = ground_truth.transpose()\n",
    "gt = pd.DataFrame(ground_truth.iloc[1:,:].reset_index(drop=True))\n",
    "gt"
   ]
  },
  {
   "cell_type": "markdown",
   "metadata": {},
   "source": [
    "# Correct time"
   ]
  },
  {
   "cell_type": "code",
   "execution_count": null,
   "metadata": {},
   "outputs": [],
   "source": [
    "#Τime correction in appropriate form\n",
    "ct=gt[0][0]\n",
    "date=dt.date(2019,5,30)\n",
    "ct=dt.datetime.combine(date , ct)\n",
    "SPT['UpTime']= ((SPT['UpTime']) + (ct))\n",
    "SPT['UpTime']= SPT['UpTime'].dt.strftime('%H:%M:%S')"
   ]
  },
  {
   "cell_type": "code",
   "execution_count": null,
   "metadata": {},
   "outputs": [],
   "source": [
    "# Create a new collumn as ground_trouth\n",
    "t1=gt[0][1]\n",
    "t2= gt[0][2]\n",
    "SPT.loc[(SPT['UpTime'] > str(t1)) & (SPT['UpTime'] < str(t2)) , 'gt']= 100"
   ]
  },
  {
   "cell_type": "code",
   "execution_count": null,
   "metadata": {},
   "outputs": [],
   "source": [
    "SPT.tail()"
   ]
  },
  {
   "cell_type": "code",
   "execution_count": null,
   "metadata": {},
   "outputs": [],
   "source": [
    "SPT.head()"
   ]
  },
  {
   "cell_type": "markdown",
   "metadata": {},
   "source": [
    "# Diagrams of arm angle during sleeping period"
   ]
  },
  {
   "cell_type": "code",
   "execution_count": null,
   "metadata": {},
   "outputs": [],
   "source": [
    "#Set UpTime as an index\n",
    "SPT = SPT.set_index('UpTime')"
   ]
  },
  {
   "cell_type": "code",
   "execution_count": null,
   "metadata": {},
   "outputs": [],
   "source": [
    "#diagram1-UpTimevsangle difference\n",
    "ax = SPT.drop(['angle'], axis = 1).plot(figsize = (30,12))\n",
    "ax.axhline(5, linestyle='--', color='r', label='5 degree change')\n",
    "ax.axhline(-5, linestyle='--', color='r')\n",
    "ax.legend()"
   ]
  },
  {
   "cell_type": "code",
   "execution_count": null,
   "metadata": {},
   "outputs": [],
   "source": [
    "#diagram2-UpTimevsangle\n",
    "ax = SPT.drop(['angle difference'], axis = 1).plot(figsize = (30,12))\n",
    "ax.axhline(0, linestyle='--', color='black')\n",
    "ax.legend()"
   ]
  },
  {
   "cell_type": "markdown",
   "metadata": {},
   "source": [
    "# Results"
   ]
  },
  {
   "cell_type": "code",
   "execution_count": null,
   "metadata": {},
   "outputs": [],
   "source": [
    "#SPT.reset_index(inplace=True)"
   ]
  },
  {
   "cell_type": "code",
   "execution_count": null,
   "metadata": {},
   "outputs": [],
   "source": [
    "results_5 = SPT['5MWindow'].fillna(0)[SPT['5MWindow'].fillna(0).diff() != 0.0].astype(bool)\n",
    "results_10 = SPT['10MWindow'].fillna(0)[SPT['10MWindow'].fillna(0).diff() != 0.0].astype(bool)\n",
    "results_gt = SPT['gt'].fillna(0)[SPT['gt'].fillna(0).diff() != 0.0].astype(bool)\n"
   ]
  },
  {
   "cell_type": "code",
   "execution_count": null,
   "metadata": {},
   "outputs": [],
   "source": [
    "#create lists with sleep intervals\n",
    "result5_list = []\n",
    "for i in range(results_5.shape[0] - 1):\n",
    "    result5_list.append([\"{} - {}\".format(str(results_5.index[i]), str(results_5.index[i+1])), results_5[i]])\n",
    "\n",
    "    result10_list = []\n",
    "for i in range(results_10.shape[0] - 1):\n",
    "    result10_list.append([\"{} - {}\".format(str(results_10.index[i]), str(results_10.index[i+1])), results_10[i]])\n",
    "\n",
    "    resultgt_list = []\n",
    "for i in range(results_gt.shape[0] - 1):\n",
    "        resultgt_list.append([\"{} - {}\".format(str(results_gt.index[i]), str(results_gt.index[i+1])), results_gt[i]])"
   ]
  },
  {
   "cell_type": "code",
   "execution_count": null,
   "metadata": {},
   "outputs": [],
   "source": [
    "#create dataframes with lists\n",
    "results5_df  = pd.DataFrame(result5_list)\n",
    "results10_df  = pd.DataFrame(result10_list)\n",
    "resultsgt_df  = pd.DataFrame(resultgt_list)"
   ]
  },
  {
   "cell_type": "code",
   "execution_count": null,
   "metadata": {},
   "outputs": [],
   "source": [
    "#Create dataframes with 2 collums\n",
    "results5_df.columns = ['Time', 'Sleep']\n",
    "results10_df.columns = ['Time', 'Sleep']\n",
    "resultsgt_df.columns = ['Time', 'Sleep']"
   ]
  },
  {
   "cell_type": "code",
   "execution_count": null,
   "metadata": {},
   "outputs": [],
   "source": [
    "#Sleeping or not?\n",
    "results5_df  = results5_df[results5_df['Sleep'] == True]['Time']\n",
    "results10_df  = results10_df[results10_df['Sleep'] == True]['Time']\n",
    "resultsgt_df  = resultsgt_df[resultsgt_df['Sleep'] == True]['Time']"
   ]
  },
  {
   "cell_type": "code",
   "execution_count": null,
   "metadata": {},
   "outputs": [],
   "source": [
    "#Combine all results in one dataframe\n",
    "SPT_results = pd.concat([results5_df,results10_df, resultsgt_df], ignore_index=True, axis=1)\n",
    "SPT_results.columns = ['5 minutes window', '10 minutes window', 'ground truth']\n",
    "SPT_results = SPT_results.fillna('-').reset_index(drop= True)\n",
    "SPT_results.index.name = 'Time Intervals'"
   ]
  },
  {
   "cell_type": "code",
   "execution_count": null,
   "metadata": {},
   "outputs": [],
   "source": [
    "SPT_results"
   ]
  },
  {
   "cell_type": "markdown",
   "metadata": {},
   "source": [
    "# Metric Score (M)"
   ]
  },
  {
   "cell_type": "code",
   "execution_count": null,
   "metadata": {},
   "outputs": [],
   "source": [
    "#Metric based on distance\n",
    "SPT['5MWindow']=SPT['5MWindow'].fillna(0)\n",
    "SPT['10MWindow']=SPT['10MWindow'].fillna(0)\n",
    "SPT['gt'] = SPT['gt'].fillna(0)\n",
    "dist5= (SPT['5MWindow'] - SPT['gt']).abs()\n",
    "dist10= (SPT['10MWindow'] - SPT['gt']).abs()"
   ]
  },
  {
   "cell_type": "code",
   "execution_count": null,
   "metadata": {},
   "outputs": [],
   "source": [
    "#true values=(20,0)\n",
    "#false values=(120,100)\n",
    "dist5.value_counts()"
   ]
  },
  {
   "cell_type": "code",
   "execution_count": null,
   "metadata": {},
   "outputs": [],
   "source": [
    "#true values=(40,0)\n",
    "#false values=(140,100)\n",
    "dist10.value_counts()"
   ]
  },
  {
   "cell_type": "code",
   "execution_count": null,
   "metadata": {},
   "outputs": [],
   "source": [
    "#Count the false values\n",
    "False_values5=(dist5.values==100).sum() + (dist5.values==120).sum()\n",
    "False_values10=(dist10.values==140).sum() + (dist10.values==100).sum()"
   ]
  },
  {
   "cell_type": "code",
   "execution_count": null,
   "metadata": {},
   "outputs": [],
   "source": [
    "#Calculate errors (false_values/5S divided by all values/5S)\n",
    "M5=(False_values5/SPT.shape[0])*100\n",
    "M10=(False_values10/SPT.shape[0])*100\n",
    "print(M5,M10)"
   ]
  },
  {
   "cell_type": "code",
   "execution_count": null,
   "metadata": {},
   "outputs": [],
   "source": []
  }
 ],
 "metadata": {
  "kernelspec": {
   "display_name": "Python 3 (ipykernel)",
   "language": "python",
   "name": "python3"
  },
  "language_info": {
   "codemirror_mode": {
    "name": "ipython",
    "version": 3
   },
   "file_extension": ".py",
   "mimetype": "text/x-python",
   "name": "python",
   "nbconvert_exporter": "python",
   "pygments_lexer": "ipython3",
   "version": "3.9.12"
  }
 },
 "nbformat": 4,
 "nbformat_minor": 4
}
