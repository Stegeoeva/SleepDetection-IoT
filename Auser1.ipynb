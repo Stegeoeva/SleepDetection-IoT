{
 "cells": [
  {
   "cell_type": "code",
   "execution_count": 1,
   "metadata": {},
   "outputs": [],
   "source": [
    "import matplotlib.pyplot as plt\n",
    "import numpy as np\n",
    "import pickle\n",
    "import seaborn as sns\n",
    "import pandas as pd\n",
    "import matplotlib.ticker as mticker\n",
    "import matplotlib.dates as md\n",
    "import datetime as dt\n",
    "from scipy import stats\n",
    "import math "
   ]
  },
  {
   "cell_type": "code",
   "execution_count": 2,
   "metadata": {},
   "outputs": [],
   "source": [
    "#Import data\n",
    "df5 = pd.read_csv('data/AccelerometerData_103_04_06_19.txt')  \n",
    "df6 = pd.read_csv('data/AccelerometerData_103_05_06_19.txt') \n",
    "df2 = pd.read_csv('data/AccelerometerData_101_31_05_19.txt')  \n",
    "df4 = pd.read_csv('data/AccelerometerData_102_03_06_19.txt') \n",
    "df1 = pd.read_csv('data/AccelerometerData_101_30_05_19.txt') \n",
    "df3 = pd.read_csv('data/AccelerometerData_102_02_06_19.txt') "
   ]
  },
  {
   "cell_type": "code",
   "execution_count": 3,
   "metadata": {},
   "outputs": [
    {
     "data": {
      "text/html": [
       "<div>\n",
       "<style scoped>\n",
       "    .dataframe tbody tr th:only-of-type {\n",
       "        vertical-align: middle;\n",
       "    }\n",
       "\n",
       "    .dataframe tbody tr th {\n",
       "        vertical-align: top;\n",
       "    }\n",
       "\n",
       "    .dataframe thead th {\n",
       "        text-align: right;\n",
       "    }\n",
       "</style>\n",
       "<table border=\"1\" class=\"dataframe\">\n",
       "  <thead>\n",
       "    <tr style=\"text-align: right;\">\n",
       "      <th></th>\n",
       "      <th>UTC_Time</th>\n",
       "      <th>UpTime</th>\n",
       "      <th>Value1</th>\n",
       "      <th>Value2</th>\n",
       "      <th>Value3</th>\n",
       "    </tr>\n",
       "  </thead>\n",
       "  <tbody>\n",
       "    <tr>\n",
       "      <th>0</th>\n",
       "      <td>2:20:39 AM</td>\n",
       "      <td>524</td>\n",
       "      <td>-0.583849</td>\n",
       "      <td>1.450050</td>\n",
       "      <td>9.635897</td>\n",
       "    </tr>\n",
       "    <tr>\n",
       "      <th>1</th>\n",
       "      <td>2:20:39 AM</td>\n",
       "      <td>541</td>\n",
       "      <td>-0.569492</td>\n",
       "      <td>1.469193</td>\n",
       "      <td>9.655040</td>\n",
       "    </tr>\n",
       "    <tr>\n",
       "      <th>2</th>\n",
       "      <td>2:20:39 AM</td>\n",
       "      <td>557</td>\n",
       "      <td>-0.562313</td>\n",
       "      <td>1.502693</td>\n",
       "      <td>9.652647</td>\n",
       "    </tr>\n",
       "    <tr>\n",
       "      <th>3</th>\n",
       "      <td>2:20:39 AM</td>\n",
       "      <td>574</td>\n",
       "      <td>-0.564706</td>\n",
       "      <td>1.521835</td>\n",
       "      <td>9.659825</td>\n",
       "    </tr>\n",
       "    <tr>\n",
       "      <th>4</th>\n",
       "      <td>2:20:39 AM</td>\n",
       "      <td>589</td>\n",
       "      <td>-0.569492</td>\n",
       "      <td>1.517050</td>\n",
       "      <td>9.662218</td>\n",
       "    </tr>\n",
       "    <tr>\n",
       "      <th>...</th>\n",
       "      <td>...</td>\n",
       "      <td>...</td>\n",
       "      <td>...</td>\n",
       "      <td>...</td>\n",
       "      <td>...</td>\n",
       "    </tr>\n",
       "    <tr>\n",
       "      <th>414441</th>\n",
       "      <td>7:54:57 AM</td>\n",
       "      <td>20058353</td>\n",
       "      <td>-3.337988</td>\n",
       "      <td>2.242075</td>\n",
       "      <td>9.075976</td>\n",
       "    </tr>\n",
       "    <tr>\n",
       "      <th>414442</th>\n",
       "      <td>7:54:57 AM</td>\n",
       "      <td>20058355</td>\n",
       "      <td>-3.467200</td>\n",
       "      <td>2.203790</td>\n",
       "      <td>9.253045</td>\n",
       "    </tr>\n",
       "    <tr>\n",
       "      <th>414443</th>\n",
       "      <td>7:54:57 AM</td>\n",
       "      <td>20058357</td>\n",
       "      <td>-3.620341</td>\n",
       "      <td>1.931008</td>\n",
       "      <td>9.236296</td>\n",
       "    </tr>\n",
       "    <tr>\n",
       "      <th>414444</th>\n",
       "      <td>7:54:57 AM</td>\n",
       "      <td>20058369</td>\n",
       "      <td>-3.701697</td>\n",
       "      <td>1.808974</td>\n",
       "      <td>9.126225</td>\n",
       "    </tr>\n",
       "    <tr>\n",
       "      <th>414445</th>\n",
       "      <td>7:54:57 AM</td>\n",
       "      <td>20058374</td>\n",
       "      <td>-3.677768</td>\n",
       "      <td>1.986043</td>\n",
       "      <td>9.042477</td>\n",
       "    </tr>\n",
       "  </tbody>\n",
       "</table>\n",
       "<p>414446 rows × 5 columns</p>\n",
       "</div>"
      ],
      "text/plain": [
       "          UTC_Time    UpTime    Value1    Value2    Value3\n",
       "0       2:20:39 AM       524 -0.583849  1.450050  9.635897\n",
       "1       2:20:39 AM       541 -0.569492  1.469193  9.655040\n",
       "2       2:20:39 AM       557 -0.562313  1.502693  9.652647\n",
       "3       2:20:39 AM       574 -0.564706  1.521835  9.659825\n",
       "4       2:20:39 AM       589 -0.569492  1.517050  9.662218\n",
       "...            ...       ...       ...       ...       ...\n",
       "414441  7:54:57 AM  20058353 -3.337988  2.242075  9.075976\n",
       "414442  7:54:57 AM  20058355 -3.467200  2.203790  9.253045\n",
       "414443  7:54:57 AM  20058357 -3.620341  1.931008  9.236296\n",
       "414444  7:54:57 AM  20058369 -3.701697  1.808974  9.126225\n",
       "414445  7:54:57 AM  20058374 -3.677768  1.986043  9.042477\n",
       "\n",
       "[414446 rows x 5 columns]"
      ]
     },
     "execution_count": 3,
     "metadata": {},
     "output_type": "execute_result"
    }
   ],
   "source": [
    "df1"
   ]
  },
  {
   "cell_type": "code",
   "execution_count": 4,
   "metadata": {},
   "outputs": [],
   "source": [
    "# data seperation for each participant and create a list for all datasets\n",
    "Participant1=[df1,df2]\n",
    "Participant2=[df3,df4]\n",
    "Participant3=[df5,df6]\n",
    "Participants=[Participant1,Participant2,Participant3]\n",
    "df=[df1,df2,df3,df4,df5,df6]"
   ]
  },
  {
   "cell_type": "code",
   "execution_count": 5,
   "metadata": {},
   "outputs": [],
   "source": [
    "# Select Participant and Record\n",
    "df=df[0]"
   ]
  },
  {
   "cell_type": "markdown",
   "metadata": {},
   "source": [
    "# Summary Statistics"
   ]
  },
  {
   "cell_type": "code",
   "execution_count": 6,
   "metadata": {},
   "outputs": [
    {
     "name": "stdout",
     "output_type": "stream",
     "text": [
      "Earliest date: 2:20:39 AM\n",
      "Latest date: 7:54:57 AM\n",
      "Min of ax: -20.970697\n",
      "Min of ay: -26.82115\n",
      "Min of az: -14.13201\n",
      "Max of ax: 18.151953\n",
      "Max of ay: 30.592237\n",
      "Max of az: 20.484955\n"
     ]
    }
   ],
   "source": [
    "print('Earliest date:',df.UTC_Time.min())\n",
    "print('Latest date:',df.UTC_Time.max())\n",
    "print('Min of ax:',df.Value1.min())\n",
    "print('Min of ay:',df.Value2.min())\n",
    "print('Min of az:',df.Value3.min())\n",
    "print('Max of ax:',df.Value1.max())\n",
    "print('Max of ay:',df.Value2.max())\n",
    "print('Max of az:',df.Value3.max())"
   ]
  },
  {
   "cell_type": "code",
   "execution_count": 7,
   "metadata": {},
   "outputs": [
    {
     "name": "stdout",
     "output_type": "stream",
     "text": [
      "Mean value of ax for all users:0\n",
      "Mean value of ay for all users:-2\n",
      "Mean value of az for all users:6\n"
     ]
    }
   ],
   "source": [
    "print('Mean value of ax for all users:%i'%np.mean(df.Value1))\n",
    "print('Mean value of ay for all users:%i'%np.mean(df.Value2))\n",
    "print('Mean value of az for all users:%i'%np.mean(df.Value3))"
   ]
  },
  {
   "cell_type": "markdown",
   "metadata": {},
   "source": [
    "# Distribution Analysis of Values"
   ]
  },
  {
   "cell_type": "code",
   "execution_count": 8,
   "metadata": {},
   "outputs": [],
   "source": [
    "from distfit import distfit"
   ]
  },
  {
   "cell_type": "code",
   "execution_count": 9,
   "metadata": {},
   "outputs": [
    {
     "name": "stdout",
     "output_type": "stream",
     "text": [
      "[distfit] >fit..\n",
      "[distfit] >transform..\n",
      "[distfit] >[norm      ] [0.0 sec] [RSS: 0.119831] [loc=-0.418 scale=3.663]\n",
      "[distfit] >[expon     ] [0.0 sec] [RSS: 0.20129] [loc=-20.971 scale=20.553]\n",
      "[distfit] >[pareto    ] [0.92 sec] [RSS: 0.20129] [loc=-2147483668.971 scale=2147483648.000]\n",
      "[distfit] >[dweibull  ] [6.34 sec] [RSS: 0.119935] [loc=-0.511 scale=3.221]\n",
      "[distfit] >[t         ] [65.2 sec] [RSS: 0.119831] [loc=-0.418 scale=3.663]\n",
      "[distfit] >[genextreme] [43.2 sec] [RSS: 0.116986] [loc=-2.370 scale=3.467]\n",
      "[distfit] >[gamma     ] [4.96 sec] [RSS: 0.117032] [loc=-21.228 scale=0.638]\n",
      "[distfit] >[lognorm   ] [18.4 sec] [RSS: 0.116467] [loc=-24.025 scale=23.328]\n",
      "[distfit] >[beta      ] [48.7 sec] [RSS: 0.118509] [loc=-21.608 scale=58.756]\n",
      "[distfit] >[uniform   ] [0.00 sec] [RSS: 0.184564] [loc=-20.971 scale=39.123]\n",
      "[distfit] >[loggamma  ] [9.42 sec] [RSS: 0.119957] [loc=-1292.014 scale=169.173]\n",
      "[distfit] >Compute confidence interval [parametric]\n",
      "[distfit] >plot..\n"
     ]
    },
    {
     "data": {
      "image/png": "[encoded data removed]",
      "text/plain": [
       "<Figure size 720x360 with 1 Axes>"
      ]
     },
     "metadata": {
      "needs_background": "light"
     },
     "output_type": "display_data"
    }
   ],
   "source": [
    "dist = distfit()\n",
    "dist.fit_transform(df['Value1'] )\n",
    "dist.plot(figsize=(10,5));"
   ]
  },
  {
   "cell_type": "code",
   "execution_count": 10,
   "metadata": {},
   "outputs": [
    {
     "name": "stdout",
     "output_type": "stream",
     "text": [
      "[distfit] >fit..\n",
      "[distfit] >transform..\n",
      "[distfit] >[norm      ] [0.0 sec] [RSS: 0.0159607] [loc=-2.088 scale=4.802]\n",
      "[distfit] >[expon     ] [0.00 sec] [RSS: 0.051839] [loc=-26.821 scale=24.733]\n",
      "[distfit] >[pareto    ] [0.85 sec] [RSS: 0.051839] [loc=-2147483674.821 scale=2147483648.000]\n",
      "[distfit] >[dweibull  ] [7.42 sec] [RSS: 0.0135116] [loc=-1.564 scale=4.662]\n",
      "[distfit] >[t         ] [65.4 sec] [RSS: 0.01596] [loc=-2.088 scale=4.803]\n",
      "[distfit] >[genextreme] [56.9 sec] [RSS: 0.0163162] [loc=-4.167 scale=4.475]\n",
      "[distfit] >[gamma     ] [21.4 sec] [RSS: 0.0160057] [loc=-158.907 scale=0.147]\n",
      "[distfit] >[lognorm   ] [30.7 sec] [RSS: 0.0160938] [loc=-86.429 scale=84.201]\n",
      "[distfit] >[beta      ] [44.0 sec] [RSS: 0.0156863] [loc=-26.910 scale=58.700]\n",
      "[distfit] >[uniform   ] [0.0 sec] [RSS: 0.0456357] [loc=-26.821 scale=57.413]\n",
      "[distfit] >[loggamma  ] [10.8 sec] [RSS: 0.0158655] [loc=-708.603 scale=112.268]\n",
      "[distfit] >Compute confidence interval [parametric]\n",
      "[distfit] >plot..\n"
     ]
    },
    {
     "data": {
      "image/png": "[encoded data removed]",
      "text/plain": [
       "<Figure size 720x360 with 1 Axes>"
      ]
     },
     "metadata": {
      "needs_background": "light"
     },
     "output_type": "display_data"
    }
   ],
   "source": [
    "dist = distfit()\n",
    "dist.fit_transform(df['Value2'] )\n",
    "dist.plot(figsize=(10,5));"
   ]
  },
  {
   "cell_type": "code",
   "execution_count": 11,
   "metadata": {},
   "outputs": [
    {
     "name": "stdout",
     "output_type": "stream",
     "text": [
      "[distfit] >fit..\n",
      "[distfit] >transform..\n",
      "[distfit] >[norm      ] [0.00 sec] [RSS: 0.355164] [loc=6.228 scale=4.115]\n",
      "[distfit] >[expon     ] [0.00 sec] [RSS: 0.460126] [loc=-14.132 scale=20.360]\n",
      "[distfit] >[pareto    ] [1.28 sec] [RSS: 0.460126] [loc=-1073741838.132 scale=1073741824.000]\n",
      "[distfit] >[dweibull  ] [18.1 sec] [RSS: 0.153186] [loc=8.179 scale=2.154]\n",
      "[distfit] >[t         ] [46.5 sec] [RSS: 0.0432962] [loc=8.234 scale=0.398]\n",
      "[distfit] >[genextreme] [53.9 sec] [RSS: 0.366628] [loc=4.696 scale=4.843]\n",
      "[distfit] >[gamma     ] [20.3 sec] [RSS: 0.365697] [loc=-53.501 scale=0.351]\n",
      "[distfit] >[lognorm   ] [31.6 sec] [RSS: 0.355456] [loc=-1994.742 scale=2000.951]\n",
      "[distfit] >[beta      ] [41.3 sec] [RSS: 0.490853] [loc=-14.132 scale=34.627]\n",
      "[distfit] >[uniform   ] [0.0 sec] [RSS: 0.437589] [loc=-14.132 scale=34.617]\n",
      "[distfit] >[loggamma  ] [2.67 sec] [RSS: 0.274602] [loc=9.010 scale=1.492]\n",
      "[distfit] >Compute confidence interval [parametric]\n",
      "[distfit] >plot..\n"
     ]
    },
    {
     "data": {
      "image/png": "[encoded data removed]",
      "text/plain": [
       "<Figure size 720x360 with 1 Axes>"
      ]
     },
     "metadata": {
      "needs_background": "light"
     },
     "output_type": "display_data"
    }
   ],
   "source": [
    "dist = distfit()\n",
    "dist.fit_transform(df['Value3'] )\n",
    "dist.plot(figsize=(10,5));"
   ]
  },
  {
   "cell_type": "markdown",
   "metadata": {},
   "source": [
    "# Preprocessing"
   ]
  },
  {
   "cell_type": "code",
   "execution_count": 12,
   "metadata": {},
   "outputs": [],
   "source": [
    "# Remove spikes \n",
    "df = df[(np.abs(stats.zscore(df.iloc[:,2:5])) < 3).all(axis=1)]"
   ]
  },
  {
   "cell_type": "code",
   "execution_count": 13,
   "metadata": {},
   "outputs": [],
   "source": [
    "#Convert UpTime to timedelta(ms)\n",
    "df['UpTime'] = pd.to_timedelta(df['UpTime'], 'ms')"
   ]
  },
  {
   "cell_type": "code",
   "execution_count": 14,
   "metadata": {},
   "outputs": [],
   "source": [
    "#Resample data in 20Hz\n",
    "df=df.resample('50ms', on='UpTime').mean()\n",
    "df = df.fillna(method = 'ffill')"
   ]
  },
  {
   "cell_type": "code",
   "execution_count": 15,
   "metadata": {},
   "outputs": [],
   "source": [
    "# Rolling 5 sec medians value1,2,3\n",
    "df['Value1']=df['Value1'].rolling(window=100,min_periods=1).median()\n",
    "df['Value2']=df['Value2'].rolling(window=100,min_periods=1).median()\n",
    "df['Value3']=df['Value3'].rolling(window=100,min_periods=1).median()"
   ]
  },
  {
   "cell_type": "code",
   "execution_count": 16,
   "metadata": {},
   "outputs": [
    {
     "data": {
      "text/html": [
       "<div>\n",
       "<style scoped>\n",
       "    .dataframe tbody tr th:only-of-type {\n",
       "        vertical-align: middle;\n",
       "    }\n",
       "\n",
       "    .dataframe tbody tr th {\n",
       "        vertical-align: top;\n",
       "    }\n",
       "\n",
       "    .dataframe thead th {\n",
       "        text-align: right;\n",
       "    }\n",
       "</style>\n",
       "<table border=\"1\" class=\"dataframe\">\n",
       "  <thead>\n",
       "    <tr style=\"text-align: right;\">\n",
       "      <th></th>\n",
       "      <th>Value1</th>\n",
       "      <th>Value2</th>\n",
       "      <th>Value3</th>\n",
       "    </tr>\n",
       "    <tr>\n",
       "      <th>UpTime</th>\n",
       "      <th></th>\n",
       "      <th></th>\n",
       "      <th></th>\n",
       "    </tr>\n",
       "  </thead>\n",
       "  <tbody>\n",
       "    <tr>\n",
       "      <th>0 days 00:00:00.524000</th>\n",
       "      <td>-0.571885</td>\n",
       "      <td>1.473979</td>\n",
       "      <td>9.647861</td>\n",
       "    </tr>\n",
       "    <tr>\n",
       "      <th>0 days 00:00:00.574000</th>\n",
       "      <td>-0.569492</td>\n",
       "      <td>1.496711</td>\n",
       "      <td>9.654441</td>\n",
       "    </tr>\n",
       "    <tr>\n",
       "      <th>0 days 00:00:00.624000</th>\n",
       "      <td>-0.571885</td>\n",
       "      <td>1.497907</td>\n",
       "      <td>9.653843</td>\n",
       "    </tr>\n",
       "    <tr>\n",
       "      <th>0 days 00:00:00.674000</th>\n",
       "      <td>-0.576072</td>\n",
       "      <td>1.508675</td>\n",
       "      <td>9.653843</td>\n",
       "    </tr>\n",
       "    <tr>\n",
       "      <th>0 days 00:00:00.724000</th>\n",
       "      <td>-0.580259</td>\n",
       "      <td>1.519442</td>\n",
       "      <td>9.653843</td>\n",
       "    </tr>\n",
       "  </tbody>\n",
       "</table>\n",
       "</div>"
      ],
      "text/plain": [
       "                          Value1    Value2    Value3\n",
       "UpTime                                              \n",
       "0 days 00:00:00.524000 -0.571885  1.473979  9.647861\n",
       "0 days 00:00:00.574000 -0.569492  1.496711  9.654441\n",
       "0 days 00:00:00.624000 -0.571885  1.497907  9.653843\n",
       "0 days 00:00:00.674000 -0.576072  1.508675  9.653843\n",
       "0 days 00:00:00.724000 -0.580259  1.519442  9.653843"
      ]
     },
     "execution_count": 16,
     "metadata": {},
     "output_type": "execute_result"
    }
   ],
   "source": [
    "df.head()"
   ]
  },
  {
   "cell_type": "markdown",
   "metadata": {},
   "source": [
    "# Calculate Angle"
   ]
  },
  {
   "cell_type": "code",
   "execution_count": 17,
   "metadata": {},
   "outputs": [],
   "source": [
    "#Calculate angle\n",
    "df['angle'] = np.arctan(df[\"Value3\"] / np.sqrt( np.square(df[\"Value1\"]) + np.square(df[\"Value2\"]))) * 180 / np.pi"
   ]
  },
  {
   "cell_type": "code",
   "execution_count": 18,
   "metadata": {},
   "outputs": [
    {
     "name": "stdout",
     "output_type": "stream",
     "text": [
      "Min of angle: -41.23853482865258\n",
      "Max of angle: 88.78417235494518\n",
      "Mean of angle: 44.078380999909896\n"
     ]
    }
   ],
   "source": [
    "#Statistics about angle\n",
    "print('Min of angle:',df.angle.min())\n",
    "print('Max of angle:',df.angle.max())\n",
    "print('Mean of angle:',df.angle.mean())"
   ]
  },
  {
   "cell_type": "code",
   "execution_count": 19,
   "metadata": {},
   "outputs": [
    {
     "name": "stdout",
     "output_type": "stream",
     "text": [
      "[distfit] >fit..\n",
      "[distfit] >transform..\n",
      "[distfit] >[norm      ] [0.00 sec] [RSS: 0.00906602] [loc=44.078 scale=27.793]\n",
      "[distfit] >[expon     ] [0.00 sec] [RSS: 0.0123067] [loc=-41.239 scale=85.317]\n",
      "[distfit] >[pareto    ] [1.14 sec] [RSS: 0.013047] [loc=-41.239 scale=0.000]\n",
      "[distfit] >[dweibull  ] [30.9 sec] [RSS: 0.00465406] [loc=55.513 scale=21.716]\n",
      "[distfit] >[t         ] [66.7 sec] [RSS: 0.00557408] [loc=55.140 scale=8.146]\n",
      "[distfit] >[genextreme] [33.9 sec] [RSS: 0.00842311] [loc=38.202 scale=28.832]\n",
      "[distfit] >[gamma     ] [18.1 sec] [RSS: 0.0157828] [loc=-41.239 scale=3.193]\n",
      "[distfit] >[lognorm   ] [25.0 sec] [RSS: 0.0131746] [loc=-41.239 scale=1.807]\n",
      "[distfit] >[beta      ] [30.8 sec] [RSS: 0.0106457] [loc=-44.096 scale=132.881]\n",
      "[distfit] >[uniform   ] [0.0 sec] [RSS: 0.0107327] [loc=-41.239 scale=130.023]\n",
      "[distfit] >[loggamma  ] [3.09 sec] [RSS: 0.00735408] [loc=68.204 scale=9.650]\n",
      "[distfit] >Compute confidence interval [parametric]\n",
      "[distfit] >plot..\n"
     ]
    },
    {
     "data": {
      "image/png": "[encoded data removed]",
      "text/plain": [
       "<Figure size 720x360 with 1 Axes>"
      ]
     },
     "metadata": {
      "needs_background": "light"
     },
     "output_type": "display_data"
    }
   ],
   "source": [
    "#Distribution of Angle\n",
    "dist = distfit()\n",
    "dist.fit_transform(df['angle'] )\n",
    "dist.plot(figsize=(10,5));"
   ]
  },
  {
   "cell_type": "code",
   "execution_count": 20,
   "metadata": {},
   "outputs": [],
   "source": [
    "# Reset UpTime\n",
    "df.reset_index(inplace=True)"
   ]
  },
  {
   "cell_type": "code",
   "execution_count": 21,
   "metadata": {},
   "outputs": [
    {
     "data": {
      "text/html": [
       "<div>\n",
       "<style scoped>\n",
       "    .dataframe tbody tr th:only-of-type {\n",
       "        vertical-align: middle;\n",
       "    }\n",
       "\n",
       "    .dataframe tbody tr th {\n",
       "        vertical-align: top;\n",
       "    }\n",
       "\n",
       "    .dataframe thead th {\n",
       "        text-align: right;\n",
       "    }\n",
       "</style>\n",
       "<table border=\"1\" class=\"dataframe\">\n",
       "  <thead>\n",
       "    <tr style=\"text-align: right;\">\n",
       "      <th></th>\n",
       "      <th>UpTime</th>\n",
       "      <th>Value1</th>\n",
       "      <th>Value2</th>\n",
       "      <th>Value3</th>\n",
       "      <th>angle</th>\n",
       "    </tr>\n",
       "  </thead>\n",
       "  <tbody>\n",
       "    <tr>\n",
       "      <th>0</th>\n",
       "      <td>0 days 00:00:00.524000</td>\n",
       "      <td>-0.571885</td>\n",
       "      <td>1.473979</td>\n",
       "      <td>9.647861</td>\n",
       "      <td>80.693435</td>\n",
       "    </tr>\n",
       "    <tr>\n",
       "      <th>1</th>\n",
       "      <td>0 days 00:00:00.574000</td>\n",
       "      <td>-0.569492</td>\n",
       "      <td>1.496711</td>\n",
       "      <td>9.654441</td>\n",
       "      <td>80.582026</td>\n",
       "    </tr>\n",
       "    <tr>\n",
       "      <th>2</th>\n",
       "      <td>0 days 00:00:00.624000</td>\n",
       "      <td>-0.571885</td>\n",
       "      <td>1.497907</td>\n",
       "      <td>9.653843</td>\n",
       "      <td>80.570073</td>\n",
       "    </tr>\n",
       "    <tr>\n",
       "      <th>3</th>\n",
       "      <td>0 days 00:00:00.674000</td>\n",
       "      <td>-0.576072</td>\n",
       "      <td>1.508675</td>\n",
       "      <td>9.653843</td>\n",
       "      <td>80.503359</td>\n",
       "    </tr>\n",
       "    <tr>\n",
       "      <th>4</th>\n",
       "      <td>0 days 00:00:00.724000</td>\n",
       "      <td>-0.580259</td>\n",
       "      <td>1.519442</td>\n",
       "      <td>9.653843</td>\n",
       "      <td>80.436671</td>\n",
       "    </tr>\n",
       "  </tbody>\n",
       "</table>\n",
       "</div>"
      ],
      "text/plain": [
       "                  UpTime    Value1    Value2    Value3      angle\n",
       "0 0 days 00:00:00.524000 -0.571885  1.473979  9.647861  80.693435\n",
       "1 0 days 00:00:00.574000 -0.569492  1.496711  9.654441  80.582026\n",
       "2 0 days 00:00:00.624000 -0.571885  1.497907  9.653843  80.570073\n",
       "3 0 days 00:00:00.674000 -0.576072  1.508675  9.653843  80.503359\n",
       "4 0 days 00:00:00.724000 -0.580259  1.519442  9.653843  80.436671"
      ]
     },
     "execution_count": 21,
     "metadata": {},
     "output_type": "execute_result"
    }
   ],
   "source": [
    "df.head()"
   ]
  },
  {
   "cell_type": "markdown",
   "metadata": {},
   "source": [
    "# Van Hess, 2015"
   ]
  },
  {
   "cell_type": "code",
   "execution_count": 22,
   "metadata": {},
   "outputs": [],
   "source": [
    "#create a new dataframe with essential collumns\n",
    "SPT = df[['UpTime', 'angle']]"
   ]
  },
  {
   "cell_type": "code",
   "execution_count": 23,
   "metadata": {},
   "outputs": [],
   "source": [
    "#Average angle per 5S\n",
    "SPT=SPT.resample('5S', on='UpTime').mean()"
   ]
  },
  {
   "cell_type": "code",
   "execution_count": 24,
   "metadata": {},
   "outputs": [],
   "source": [
    "#calculate angle differences\n",
    "SPT['angle difference'] = SPT['angle'].diff().fillna(method = 'bfill')"
   ]
  },
  {
   "cell_type": "code",
   "execution_count": 25,
   "metadata": {},
   "outputs": [
    {
     "name": "stdout",
     "output_type": "stream",
     "text": [
      "Min of angle diff: -60.93557485167898\n",
      "Max of angle diff: 58.75900501274952\n",
      "Mean of angle diff: -0.0060304792283639675\n"
     ]
    }
   ],
   "source": [
    "#Statistics about angle difference\n",
    "print('Min of angle diff:',SPT['angle difference'].min())\n",
    "print('Max of angle diff:',SPT['angle difference'].max())\n",
    "print('Mean of angle diff:',SPT['angle difference'].mean())"
   ]
  },
  {
   "cell_type": "code",
   "execution_count": 26,
   "metadata": {},
   "outputs": [
    {
     "name": "stdout",
     "output_type": "stream",
     "text": [
      "[distfit] >fit..\n",
      "[distfit] >transform..\n",
      "[distfit] >[norm      ] [0.00 sec] [RSS: 0.103864] [loc=-0.006 scale=4.981]\n",
      "[distfit] >[expon     ] [0.0 sec] [RSS: 0.141655] [loc=-60.936 scale=60.930]\n",
      "[distfit] >[pareto    ] [0.0 sec] [RSS: 0.141655] [loc=-4294967356.936 scale=4294967296.000]\n",
      "[distfit] >[dweibull  ] [0.37 sec] [RSS: 0.0270991] [loc=-0.007 scale=0.103]\n",
      "[distfit] >[t         ] [0.30 sec] [RSS: 0.00580752] [loc=-0.001 scale=0.010]\n",
      "[distfit] >[genextreme] [0.67 sec] [RSS: 0.137093] [loc=-2.565 scale=29.998]\n",
      "[distfit] >[gamma     ] [0.24 sec] [RSS: 0.105234] [loc=-130.645 scale=0.203]\n",
      "[distfit] >[lognorm   ] [0.20 sec] [RSS: 0.103834] [loc=-971.225 scale=971.210]\n",
      "[distfit] >[beta      ] [0.41 sec] [RSS: 0.103877] [loc=-1280.124 scale=3149.314]\n",
      "[distfit] >[uniform   ] [0.0 sec] [RSS: 0.139859] [loc=-60.936 scale=119.695]\n",
      "[distfit] >[loggamma  ] [0.13 sec] [RSS: 0.105018] [loc=-1662.285 scale=220.991]\n",
      "[distfit] >Compute confidence interval [parametric]\n",
      "[distfit] >plot..\n"
     ]
    },
    {
     "data": {
      "image/png": "[encoded data removed]",
      "text/plain": [
       "<Figure size 720x360 with 1 Axes>"
      ]
     },
     "metadata": {
      "needs_background": "light"
     },
     "output_type": "display_data"
    }
   ],
   "source": [
    "#Distribution of Angle\n",
    "dist = distfit()\n",
    "dist.fit_transform(SPT['angle difference'] )\n",
    "dist.plot(figsize=(10,5));"
   ]
  },
  {
   "cell_type": "code",
   "execution_count": 27,
   "metadata": {},
   "outputs": [
    {
     "data": {
      "text/html": [
       "<div>\n",
       "<style scoped>\n",
       "    .dataframe tbody tr th:only-of-type {\n",
       "        vertical-align: middle;\n",
       "    }\n",
       "\n",
       "    .dataframe tbody tr th {\n",
       "        vertical-align: top;\n",
       "    }\n",
       "\n",
       "    .dataframe thead th {\n",
       "        text-align: right;\n",
       "    }\n",
       "</style>\n",
       "<table border=\"1\" class=\"dataframe\">\n",
       "  <thead>\n",
       "    <tr style=\"text-align: right;\">\n",
       "      <th></th>\n",
       "      <th>angle</th>\n",
       "      <th>angle difference</th>\n",
       "    </tr>\n",
       "    <tr>\n",
       "      <th>UpTime</th>\n",
       "      <th></th>\n",
       "      <th></th>\n",
       "    </tr>\n",
       "  </thead>\n",
       "  <tbody>\n",
       "    <tr>\n",
       "      <th>0 days 00:00:00.524000</th>\n",
       "      <td>79.916337</td>\n",
       "      <td>-12.503546</td>\n",
       "    </tr>\n",
       "    <tr>\n",
       "      <th>0 days 00:00:05.524000</th>\n",
       "      <td>67.412791</td>\n",
       "      <td>-12.503546</td>\n",
       "    </tr>\n",
       "    <tr>\n",
       "      <th>0 days 00:00:10.524000</th>\n",
       "      <td>28.340605</td>\n",
       "      <td>-39.072186</td>\n",
       "    </tr>\n",
       "    <tr>\n",
       "      <th>0 days 00:00:15.524000</th>\n",
       "      <td>17.872949</td>\n",
       "      <td>-10.467656</td>\n",
       "    </tr>\n",
       "    <tr>\n",
       "      <th>0 days 00:00:20.524000</th>\n",
       "      <td>19.990296</td>\n",
       "      <td>2.117347</td>\n",
       "    </tr>\n",
       "  </tbody>\n",
       "</table>\n",
       "</div>"
      ],
      "text/plain": [
       "                            angle  angle difference\n",
       "UpTime                                             \n",
       "0 days 00:00:00.524000  79.916337        -12.503546\n",
       "0 days 00:00:05.524000  67.412791        -12.503546\n",
       "0 days 00:00:10.524000  28.340605        -39.072186\n",
       "0 days 00:00:15.524000  17.872949        -10.467656\n",
       "0 days 00:00:20.524000  19.990296          2.117347"
      ]
     },
     "execution_count": 27,
     "metadata": {},
     "output_type": "execute_result"
    }
   ],
   "source": [
    "SPT.head()"
   ]
  },
  {
   "cell_type": "markdown",
   "metadata": {},
   "source": [
    "# Detect inactivity"
   ]
  },
  {
   "cell_type": "code",
   "execution_count": 28,
   "metadata": {},
   "outputs": [],
   "source": [
    "#create 2 booltype columns for 5 and 10 minutes windows and detect arms changes\n",
    "SPT['5MWindow'] = SPT['angle difference'].apply(lambda x: abs(x) < 5)\n",
    "SPT['10MWindow'] = SPT['angle difference'].apply(lambda x: abs(x) < 5)"
   ]
  },
  {
   "cell_type": "code",
   "execution_count": 29,
   "metadata": {},
   "outputs": [
    {
     "data": {
      "text/html": [
       "<div>\n",
       "<style scoped>\n",
       "    .dataframe tbody tr th:only-of-type {\n",
       "        vertical-align: middle;\n",
       "    }\n",
       "\n",
       "    .dataframe tbody tr th {\n",
       "        vertical-align: top;\n",
       "    }\n",
       "\n",
       "    .dataframe thead th {\n",
       "        text-align: right;\n",
       "    }\n",
       "</style>\n",
       "<table border=\"1\" class=\"dataframe\">\n",
       "  <thead>\n",
       "    <tr style=\"text-align: right;\">\n",
       "      <th></th>\n",
       "      <th>angle</th>\n",
       "      <th>angle difference</th>\n",
       "      <th>5MWindow</th>\n",
       "      <th>10MWindow</th>\n",
       "    </tr>\n",
       "    <tr>\n",
       "      <th>UpTime</th>\n",
       "      <th></th>\n",
       "      <th></th>\n",
       "      <th></th>\n",
       "      <th></th>\n",
       "    </tr>\n",
       "  </thead>\n",
       "  <tbody>\n",
       "    <tr>\n",
       "      <th>0 days 00:00:00.524000</th>\n",
       "      <td>79.916337</td>\n",
       "      <td>-12.503546</td>\n",
       "      <td>False</td>\n",
       "      <td>False</td>\n",
       "    </tr>\n",
       "    <tr>\n",
       "      <th>0 days 00:00:05.524000</th>\n",
       "      <td>67.412791</td>\n",
       "      <td>-12.503546</td>\n",
       "      <td>False</td>\n",
       "      <td>False</td>\n",
       "    </tr>\n",
       "    <tr>\n",
       "      <th>0 days 00:00:10.524000</th>\n",
       "      <td>28.340605</td>\n",
       "      <td>-39.072186</td>\n",
       "      <td>False</td>\n",
       "      <td>False</td>\n",
       "    </tr>\n",
       "    <tr>\n",
       "      <th>0 days 00:00:15.524000</th>\n",
       "      <td>17.872949</td>\n",
       "      <td>-10.467656</td>\n",
       "      <td>False</td>\n",
       "      <td>False</td>\n",
       "    </tr>\n",
       "    <tr>\n",
       "      <th>0 days 00:00:20.524000</th>\n",
       "      <td>19.990296</td>\n",
       "      <td>2.117347</td>\n",
       "      <td>True</td>\n",
       "      <td>True</td>\n",
       "    </tr>\n",
       "  </tbody>\n",
       "</table>\n",
       "</div>"
      ],
      "text/plain": [
       "                            angle  angle difference  5MWindow  10MWindow\n",
       "UpTime                                                                  \n",
       "0 days 00:00:00.524000  79.916337        -12.503546     False      False\n",
       "0 days 00:00:05.524000  67.412791        -12.503546     False      False\n",
       "0 days 00:00:10.524000  28.340605        -39.072186     False      False\n",
       "0 days 00:00:15.524000  17.872949        -10.467656     False      False\n",
       "0 days 00:00:20.524000  19.990296          2.117347      True       True"
      ]
     },
     "execution_count": 29,
     "metadata": {},
     "output_type": "execute_result"
    }
   ],
   "source": [
    "SPT.head()"
   ]
  },
  {
   "cell_type": "code",
   "execution_count": 30,
   "metadata": {},
   "outputs": [],
   "source": [
    "#index arrays where angle change is bigger than 5 degrees    \n",
    "index_5 = SPT['5MWindow'][SPT['5MWindow']==False].index\n",
    "index_10 = SPT['10MWindow'][SPT['10MWindow']==False].index"
   ]
  },
  {
   "cell_type": "code",
   "execution_count": 31,
   "metadata": {},
   "outputs": [],
   "source": [
    "#Detect if someone sleeping or not  (True if time is bigger than 5 or 10 minutes)\n",
    "for i in range(index_5.shape[0] - 1):\n",
    "    if (index_5[i+1] - index_5[i] > dt.timedelta(seconds = 300)):\n",
    "            SPT['5MWindow'].loc[index_5[i]+dt.timedelta(seconds = 5):index_5[i+1]-dt.timedelta(seconds = 5)] = True\n",
    "    else:\n",
    "            SPT['5MWindow'].loc[index_5[i]+dt.timedelta(seconds = 5):index_5[i+1]-dt.timedelta(seconds = 5)] = False\n",
    "            \n",
    "\n",
    "for i in range(index_10.shape[0] - 1):\n",
    "    if (index_10[i+1] - index_10[i] > dt.timedelta(seconds = 600)):\n",
    "            SPT['10MWindow'].loc[index_10[i]+dt.timedelta(seconds = 5):index_10[i+1]-dt.timedelta(seconds = 5)] = True\n",
    "    else:\n",
    "            SPT['10MWindow'].loc[index_10[i]+dt.timedelta(seconds = 5):index_10[i+1]-dt.timedelta(seconds = 5)] = False"
   ]
  },
  {
   "cell_type": "code",
   "execution_count": 32,
   "metadata": {},
   "outputs": [],
   "source": [
    "#Set upTime as an index\n",
    "SPT.reset_index(inplace=True)"
   ]
  },
  {
   "cell_type": "code",
   "execution_count": 33,
   "metadata": {},
   "outputs": [],
   "source": [
    "#Replace T/F with values helps in diagrams\n",
    "SPT['5MWindow']  = SPT['5MWindow'].apply(lambda x: 120 if x == 1 else  np.NaN)\n",
    "SPT['10MWindow']  = SPT['10MWindow'].apply(lambda x: 140 if x == 1 else np.NaN)"
   ]
  },
  {
   "cell_type": "code",
   "execution_count": 34,
   "metadata": {},
   "outputs": [
    {
     "data": {
      "text/html": [
       "<div>\n",
       "<style scoped>\n",
       "    .dataframe tbody tr th:only-of-type {\n",
       "        vertical-align: middle;\n",
       "    }\n",
       "\n",
       "    .dataframe tbody tr th {\n",
       "        vertical-align: top;\n",
       "    }\n",
       "\n",
       "    .dataframe thead th {\n",
       "        text-align: right;\n",
       "    }\n",
       "</style>\n",
       "<table border=\"1\" class=\"dataframe\">\n",
       "  <thead>\n",
       "    <tr style=\"text-align: right;\">\n",
       "      <th></th>\n",
       "      <th>UpTime</th>\n",
       "      <th>angle</th>\n",
       "      <th>angle difference</th>\n",
       "      <th>5MWindow</th>\n",
       "      <th>10MWindow</th>\n",
       "    </tr>\n",
       "  </thead>\n",
       "  <tbody>\n",
       "    <tr>\n",
       "      <th>0</th>\n",
       "      <td>0 days 00:00:00.524000</td>\n",
       "      <td>79.916337</td>\n",
       "      <td>-12.503546</td>\n",
       "      <td>NaN</td>\n",
       "      <td>NaN</td>\n",
       "    </tr>\n",
       "    <tr>\n",
       "      <th>1</th>\n",
       "      <td>0 days 00:00:05.524000</td>\n",
       "      <td>67.412791</td>\n",
       "      <td>-12.503546</td>\n",
       "      <td>NaN</td>\n",
       "      <td>NaN</td>\n",
       "    </tr>\n",
       "    <tr>\n",
       "      <th>2</th>\n",
       "      <td>0 days 00:00:10.524000</td>\n",
       "      <td>28.340605</td>\n",
       "      <td>-39.072186</td>\n",
       "      <td>NaN</td>\n",
       "      <td>NaN</td>\n",
       "    </tr>\n",
       "    <tr>\n",
       "      <th>3</th>\n",
       "      <td>0 days 00:00:15.524000</td>\n",
       "      <td>17.872949</td>\n",
       "      <td>-10.467656</td>\n",
       "      <td>NaN</td>\n",
       "      <td>NaN</td>\n",
       "    </tr>\n",
       "    <tr>\n",
       "      <th>4</th>\n",
       "      <td>0 days 00:00:20.524000</td>\n",
       "      <td>19.990296</td>\n",
       "      <td>2.117347</td>\n",
       "      <td>NaN</td>\n",
       "      <td>NaN</td>\n",
       "    </tr>\n",
       "    <tr>\n",
       "      <th>5</th>\n",
       "      <td>0 days 00:00:25.524000</td>\n",
       "      <td>22.027538</td>\n",
       "      <td>2.037242</td>\n",
       "      <td>NaN</td>\n",
       "      <td>NaN</td>\n",
       "    </tr>\n",
       "    <tr>\n",
       "      <th>6</th>\n",
       "      <td>0 days 00:00:30.524000</td>\n",
       "      <td>22.224997</td>\n",
       "      <td>0.197459</td>\n",
       "      <td>NaN</td>\n",
       "      <td>NaN</td>\n",
       "    </tr>\n",
       "    <tr>\n",
       "      <th>7</th>\n",
       "      <td>0 days 00:00:35.524000</td>\n",
       "      <td>72.853848</td>\n",
       "      <td>50.628851</td>\n",
       "      <td>NaN</td>\n",
       "      <td>NaN</td>\n",
       "    </tr>\n",
       "    <tr>\n",
       "      <th>8</th>\n",
       "      <td>0 days 00:00:40.524000</td>\n",
       "      <td>68.070274</td>\n",
       "      <td>-4.783574</td>\n",
       "      <td>NaN</td>\n",
       "      <td>NaN</td>\n",
       "    </tr>\n",
       "    <tr>\n",
       "      <th>9</th>\n",
       "      <td>0 days 00:00:45.524000</td>\n",
       "      <td>61.960813</td>\n",
       "      <td>-6.109461</td>\n",
       "      <td>NaN</td>\n",
       "      <td>NaN</td>\n",
       "    </tr>\n",
       "  </tbody>\n",
       "</table>\n",
       "</div>"
      ],
      "text/plain": [
       "                  UpTime      angle  angle difference  5MWindow  10MWindow\n",
       "0 0 days 00:00:00.524000  79.916337        -12.503546       NaN        NaN\n",
       "1 0 days 00:00:05.524000  67.412791        -12.503546       NaN        NaN\n",
       "2 0 days 00:00:10.524000  28.340605        -39.072186       NaN        NaN\n",
       "3 0 days 00:00:15.524000  17.872949        -10.467656       NaN        NaN\n",
       "4 0 days 00:00:20.524000  19.990296          2.117347       NaN        NaN\n",
       "5 0 days 00:00:25.524000  22.027538          2.037242       NaN        NaN\n",
       "6 0 days 00:00:30.524000  22.224997          0.197459       NaN        NaN\n",
       "7 0 days 00:00:35.524000  72.853848         50.628851       NaN        NaN\n",
       "8 0 days 00:00:40.524000  68.070274         -4.783574       NaN        NaN\n",
       "9 0 days 00:00:45.524000  61.960813         -6.109461       NaN        NaN"
      ]
     },
     "execution_count": 34,
     "metadata": {},
     "output_type": "execute_result"
    }
   ],
   "source": [
    "SPT.head(10)"
   ]
  },
  {
   "cell_type": "markdown",
   "metadata": {},
   "source": [
    "# Import GroundTruth"
   ]
  },
  {
   "cell_type": "code",
   "execution_count": 36,
   "metadata": {},
   "outputs": [
    {
     "data": {
      "text/html": [
       "<div>\n",
       "<style scoped>\n",
       "    .dataframe tbody tr th:only-of-type {\n",
       "        vertical-align: middle;\n",
       "    }\n",
       "\n",
       "    .dataframe tbody tr th {\n",
       "        vertical-align: top;\n",
       "    }\n",
       "\n",
       "    .dataframe thead th {\n",
       "        text-align: right;\n",
       "    }\n",
       "</style>\n",
       "<table border=\"1\" class=\"dataframe\">\n",
       "  <thead>\n",
       "    <tr style=\"text-align: right;\">\n",
       "      <th></th>\n",
       "      <th>0</th>\n",
       "      <th>1</th>\n",
       "      <th>2</th>\n",
       "      <th>3</th>\n",
       "      <th>4</th>\n",
       "      <th>5</th>\n",
       "    </tr>\n",
       "  </thead>\n",
       "  <tbody>\n",
       "    <tr>\n",
       "      <th>0</th>\n",
       "      <td>02:20:00</td>\n",
       "      <td>02:09:00</td>\n",
       "      <td>02:19:00</td>\n",
       "      <td>00:24:00</td>\n",
       "      <td>01:09:00</td>\n",
       "      <td>03:08:00</td>\n",
       "    </tr>\n",
       "    <tr>\n",
       "      <th>1</th>\n",
       "      <td>02:35:00</td>\n",
       "      <td>02:24:00</td>\n",
       "      <td>02:35:00</td>\n",
       "      <td>00:46:00</td>\n",
       "      <td>01:24:00</td>\n",
       "      <td>03:23:00</td>\n",
       "    </tr>\n",
       "    <tr>\n",
       "      <th>2</th>\n",
       "      <td>07:40:00</td>\n",
       "      <td>07:31:00</td>\n",
       "      <td>04:52:00</td>\n",
       "      <td>04:19:00</td>\n",
       "      <td>09:10:00</td>\n",
       "      <td>09:03:00</td>\n",
       "    </tr>\n",
       "    <tr>\n",
       "      <th>3</th>\n",
       "      <td>07:55:00</td>\n",
       "      <td>07:46:00</td>\n",
       "      <td>05:08:00</td>\n",
       "      <td>04:36:00</td>\n",
       "      <td>09:24:00</td>\n",
       "      <td>09:18:00</td>\n",
       "    </tr>\n",
       "  </tbody>\n",
       "</table>\n",
       "</div>"
      ],
      "text/plain": [
       "          0         1         2         3         4         5\n",
       "0  02:20:00  02:09:00  02:19:00  00:24:00  01:09:00  03:08:00\n",
       "1  02:35:00  02:24:00  02:35:00  00:46:00  01:24:00  03:23:00\n",
       "2  07:40:00  07:31:00  04:52:00  04:19:00  09:10:00  09:03:00\n",
       "3  07:55:00  07:46:00  05:08:00  04:36:00  09:24:00  09:18:00"
      ]
     },
     "execution_count": 36,
     "metadata": {},
     "output_type": "execute_result"
    }
   ],
   "source": [
    "# sleep log diary as groundtrouth\n",
    "ground_truth = pd.read_excel('SleepLog.xlsx')\n",
    "ground_truth = ground_truth.transpose()\n",
    "gt = pd.DataFrame(ground_truth.iloc[1:,:].reset_index(drop=True))\n",
    "gt"
   ]
  },
  {
   "cell_type": "markdown",
   "metadata": {},
   "source": [
    "# Correct time"
   ]
  },
  {
   "cell_type": "code",
   "execution_count": 37,
   "metadata": {},
   "outputs": [],
   "source": [
    "#Τime correction in appropriate form\n",
    "ct=gt[0][0]\n",
    "date=dt.date(2019,5,30)\n",
    "ct=dt.datetime.combine(date , ct)\n",
    "SPT['UpTime']= ((SPT['UpTime']) + (ct))\n",
    "SPT['UpTime']= SPT['UpTime'].dt.strftime('%H:%M:%S')"
   ]
  },
  {
   "cell_type": "code",
   "execution_count": 38,
   "metadata": {},
   "outputs": [],
   "source": [
    "# Create a new collumn as ground_trouth\n",
    "t1=gt[0][1]\n",
    "t2= gt[0][2]\n",
    "SPT.loc[(SPT['UpTime'] > str(t1)) & (SPT['UpTime'] < str(t2)) , 'gt']= 100"
   ]
  },
  {
   "cell_type": "code",
   "execution_count": 39,
   "metadata": {},
   "outputs": [
    {
     "data": {
      "text/html": [
       "<div>\n",
       "<style scoped>\n",
       "    .dataframe tbody tr th:only-of-type {\n",
       "        vertical-align: middle;\n",
       "    }\n",
       "\n",
       "    .dataframe tbody tr th {\n",
       "        vertical-align: top;\n",
       "    }\n",
       "\n",
       "    .dataframe thead th {\n",
       "        text-align: right;\n",
       "    }\n",
       "</style>\n",
       "<table border=\"1\" class=\"dataframe\">\n",
       "  <thead>\n",
       "    <tr style=\"text-align: right;\">\n",
       "      <th></th>\n",
       "      <th>UpTime</th>\n",
       "      <th>angle</th>\n",
       "      <th>angle difference</th>\n",
       "      <th>5MWindow</th>\n",
       "      <th>10MWindow</th>\n",
       "      <th>gt</th>\n",
       "    </tr>\n",
       "  </thead>\n",
       "  <tbody>\n",
       "    <tr>\n",
       "      <th>4007</th>\n",
       "      <td>07:53:55</td>\n",
       "      <td>43.345096</td>\n",
       "      <td>-0.878644</td>\n",
       "      <td>NaN</td>\n",
       "      <td>NaN</td>\n",
       "      <td>NaN</td>\n",
       "    </tr>\n",
       "    <tr>\n",
       "      <th>4008</th>\n",
       "      <td>07:54:00</td>\n",
       "      <td>42.467976</td>\n",
       "      <td>-0.877120</td>\n",
       "      <td>NaN</td>\n",
       "      <td>NaN</td>\n",
       "      <td>NaN</td>\n",
       "    </tr>\n",
       "    <tr>\n",
       "      <th>4009</th>\n",
       "      <td>07:54:05</td>\n",
       "      <td>33.572874</td>\n",
       "      <td>-8.895102</td>\n",
       "      <td>NaN</td>\n",
       "      <td>NaN</td>\n",
       "      <td>NaN</td>\n",
       "    </tr>\n",
       "    <tr>\n",
       "      <th>4010</th>\n",
       "      <td>07:54:10</td>\n",
       "      <td>34.189390</td>\n",
       "      <td>0.616516</td>\n",
       "      <td>NaN</td>\n",
       "      <td>NaN</td>\n",
       "      <td>NaN</td>\n",
       "    </tr>\n",
       "    <tr>\n",
       "      <th>4011</th>\n",
       "      <td>07:54:15</td>\n",
       "      <td>68.225601</td>\n",
       "      <td>34.036211</td>\n",
       "      <td>NaN</td>\n",
       "      <td>NaN</td>\n",
       "      <td>NaN</td>\n",
       "    </tr>\n",
       "  </tbody>\n",
       "</table>\n",
       "</div>"
      ],
      "text/plain": [
       "        UpTime      angle  angle difference  5MWindow  10MWindow  gt\n",
       "4007  07:53:55  43.345096         -0.878644       NaN        NaN NaN\n",
       "4008  07:54:00  42.467976         -0.877120       NaN        NaN NaN\n",
       "4009  07:54:05  33.572874         -8.895102       NaN        NaN NaN\n",
       "4010  07:54:10  34.189390          0.616516       NaN        NaN NaN\n",
       "4011  07:54:15  68.225601         34.036211       NaN        NaN NaN"
      ]
     },
     "execution_count": 39,
     "metadata": {},
     "output_type": "execute_result"
    }
   ],
   "source": [
    "SPT.tail()"
   ]
  },
  {
   "cell_type": "code",
   "execution_count": 40,
   "metadata": {},
   "outputs": [
    {
     "data": {
      "text/html": [
       "<div>\n",
       "<style scoped>\n",
       "    .dataframe tbody tr th:only-of-type {\n",
       "        vertical-align: middle;\n",
       "    }\n",
       "\n",
       "    .dataframe tbody tr th {\n",
       "        vertical-align: top;\n",
       "    }\n",
       "\n",
       "    .dataframe thead th {\n",
       "        text-align: right;\n",
       "    }\n",
       "</style>\n",
       "<table border=\"1\" class=\"dataframe\">\n",
       "  <thead>\n",
       "    <tr style=\"text-align: right;\">\n",
       "      <th></th>\n",
       "      <th>UpTime</th>\n",
       "      <th>angle</th>\n",
       "      <th>angle difference</th>\n",
       "      <th>5MWindow</th>\n",
       "      <th>10MWindow</th>\n",
       "      <th>gt</th>\n",
       "    </tr>\n",
       "  </thead>\n",
       "  <tbody>\n",
       "    <tr>\n",
       "      <th>0</th>\n",
       "      <td>02:20:00</td>\n",
       "      <td>79.916337</td>\n",
       "      <td>-12.503546</td>\n",
       "      <td>NaN</td>\n",
       "      <td>NaN</td>\n",
       "      <td>NaN</td>\n",
       "    </tr>\n",
       "    <tr>\n",
       "      <th>1</th>\n",
       "      <td>02:20:05</td>\n",
       "      <td>67.412791</td>\n",
       "      <td>-12.503546</td>\n",
       "      <td>NaN</td>\n",
       "      <td>NaN</td>\n",
       "      <td>NaN</td>\n",
       "    </tr>\n",
       "    <tr>\n",
       "      <th>2</th>\n",
       "      <td>02:20:10</td>\n",
       "      <td>28.340605</td>\n",
       "      <td>-39.072186</td>\n",
       "      <td>NaN</td>\n",
       "      <td>NaN</td>\n",
       "      <td>NaN</td>\n",
       "    </tr>\n",
       "    <tr>\n",
       "      <th>3</th>\n",
       "      <td>02:20:15</td>\n",
       "      <td>17.872949</td>\n",
       "      <td>-10.467656</td>\n",
       "      <td>NaN</td>\n",
       "      <td>NaN</td>\n",
       "      <td>NaN</td>\n",
       "    </tr>\n",
       "    <tr>\n",
       "      <th>4</th>\n",
       "      <td>02:20:20</td>\n",
       "      <td>19.990296</td>\n",
       "      <td>2.117347</td>\n",
       "      <td>NaN</td>\n",
       "      <td>NaN</td>\n",
       "      <td>NaN</td>\n",
       "    </tr>\n",
       "  </tbody>\n",
       "</table>\n",
       "</div>"
      ],
      "text/plain": [
       "     UpTime      angle  angle difference  5MWindow  10MWindow  gt\n",
       "0  02:20:00  79.916337        -12.503546       NaN        NaN NaN\n",
       "1  02:20:05  67.412791        -12.503546       NaN        NaN NaN\n",
       "2  02:20:10  28.340605        -39.072186       NaN        NaN NaN\n",
       "3  02:20:15  17.872949        -10.467656       NaN        NaN NaN\n",
       "4  02:20:20  19.990296          2.117347       NaN        NaN NaN"
      ]
     },
     "execution_count": 40,
     "metadata": {},
     "output_type": "execute_result"
    }
   ],
   "source": [
    "SPT.head()"
   ]
  },
  {
   "cell_type": "markdown",
   "metadata": {},
   "source": [
    "# Diagrams of arm angle during sleeping period"
   ]
  },
  {
   "cell_type": "code",
   "execution_count": 41,
   "metadata": {},
   "outputs": [],
   "source": [
    "#Set UpTime as an index\n",
    "SPT = SPT.set_index('UpTime')"
   ]
  },
  {
   "cell_type": "code",
   "execution_count": 42,
   "metadata": {},
   "outputs": [
    {
     "data": {
      "text/plain": [
       "<matplotlib.legend.Legend at 0x23d36636340>"
      ]
     },
     "execution_count": 42,
     "metadata": {},
     "output_type": "execute_result"
    },
    {
     "data": {
      "image/png": "[encoded data removed]",
      "text/plain": [
       "<Figure size 2160x864 with 1 Axes>"
      ]
     },
     "metadata": {
      "needs_background": "light"
     },
     "output_type": "display_data"
    }
   ],
   "source": [
    "#diagram1-UpTimevsangle difference\n",
    "ax = SPT.drop(['angle'], axis = 1).plot(figsize = (30,12))\n",
    "ax.axhline(5, linestyle='--', color='r', label='5 degree change')\n",
    "ax.axhline(-5, linestyle='--', color='r')\n",
    "ax.legend()"
   ]
  },
  {
   "cell_type": "code",
   "execution_count": 43,
   "metadata": {},
   "outputs": [
    {
     "data": {
      "text/plain": [
       "<matplotlib.legend.Legend at 0x23d36636e50>"
      ]
     },
     "execution_count": 43,
     "metadata": {},
     "output_type": "execute_result"
    },
    {
     "data": {
      "image/png": "[encoded data removed]",
      "text/plain": [
       "<Figure size 2160x864 with 1 Axes>"
      ]
     },
     "metadata": {
      "needs_background": "light"
     },
     "output_type": "display_data"
    }
   ],
   "source": [
    "#diagram2-UpTimevsangle\n",
    "ax = SPT.drop(['angle difference'], axis = 1).plot(figsize = (30,12))\n",
    "ax.axhline(0, linestyle='--', color='black')\n",
    "ax.legend()"
   ]
  },
  {
   "cell_type": "markdown",
   "metadata": {},
   "source": [
    "# Results"
   ]
  },
  {
   "cell_type": "code",
   "execution_count": 44,
   "metadata": {},
   "outputs": [],
   "source": [
    "#SPT.reset_index(inplace=True)"
   ]
  },
  {
   "cell_type": "code",
   "execution_count": 45,
   "metadata": {},
   "outputs": [],
   "source": [
    "results_5 = SPT['5MWindow'].fillna(0)[SPT['5MWindow'].fillna(0).diff() != 0.0].astype(bool)\n",
    "results_10 = SPT['10MWindow'].fillna(0)[SPT['10MWindow'].fillna(0).diff() != 0.0].astype(bool)\n",
    "results_gt = SPT['gt'].fillna(0)[SPT['gt'].fillna(0).diff() != 0.0].astype(bool)\n"
   ]
  },
  {
   "cell_type": "code",
   "execution_count": 46,
   "metadata": {},
   "outputs": [],
   "source": [
    "#create lists with sleep intervals\n",
    "result5_list = []\n",
    "for i in range(results_5.shape[0] - 1):\n",
    "    result5_list.append([\"{} - {}\".format(str(results_5.index[i]), str(results_5.index[i+1])), results_5[i]])\n",
    "\n",
    "    result10_list = []\n",
    "for i in range(results_10.shape[0] - 1):\n",
    "    result10_list.append([\"{} - {}\".format(str(results_10.index[i]), str(results_10.index[i+1])), results_10[i]])\n",
    "\n",
    "    resultgt_list = []\n",
    "for i in range(results_gt.shape[0] - 1):\n",
    "        resultgt_list.append([\"{} - {}\".format(str(results_gt.index[i]), str(results_gt.index[i+1])), results_gt[i]])"
   ]
  },
  {
   "cell_type": "code",
   "execution_count": 47,
   "metadata": {},
   "outputs": [],
   "source": [
    "#create dataframes with lists\n",
    "results5_df  = pd.DataFrame(result5_list)\n",
    "results10_df  = pd.DataFrame(result10_list)\n",
    "resultsgt_df  = pd.DataFrame(resultgt_list)"
   ]
  },
  {
   "cell_type": "code",
   "execution_count": 48,
   "metadata": {},
   "outputs": [],
   "source": [
    "#Create dataframes with 2 collums\n",
    "results5_df.columns = ['Time', 'Sleep']\n",
    "results10_df.columns = ['Time', 'Sleep']\n",
    "resultsgt_df.columns = ['Time', 'Sleep']"
   ]
  },
  {
   "cell_type": "code",
   "execution_count": 49,
   "metadata": {},
   "outputs": [],
   "source": [
    "#Sleeping or not?\n",
    "results5_df  = results5_df[results5_df['Sleep'] == True]['Time']\n",
    "results10_df  = results10_df[results10_df['Sleep'] == True]['Time']\n",
    "resultsgt_df  = resultsgt_df[resultsgt_df['Sleep'] == True]['Time']"
   ]
  },
  {
   "cell_type": "code",
   "execution_count": 50,
   "metadata": {},
   "outputs": [],
   "source": [
    "#Combine all results in one dataframe\n",
    "SPT_results = pd.concat([results5_df,results10_df, resultsgt_df], ignore_index=True, axis=1)\n",
    "SPT_results.columns = ['5 minutes window', '10 minutes window', 'ground truth']\n",
    "SPT_results = SPT_results.fillna('-').reset_index(drop= True)\n",
    "SPT_results.index.name = 'Time Intervals'"
   ]
  },
  {
   "cell_type": "code",
   "execution_count": 51,
   "metadata": {},
   "outputs": [
    {
     "data": {
      "text/html": [
       "<div>\n",
       "<style scoped>\n",
       "    .dataframe tbody tr th:only-of-type {\n",
       "        vertical-align: middle;\n",
       "    }\n",
       "\n",
       "    .dataframe tbody tr th {\n",
       "        vertical-align: top;\n",
       "    }\n",
       "\n",
       "    .dataframe thead th {\n",
       "        text-align: right;\n",
       "    }\n",
       "</style>\n",
       "<table border=\"1\" class=\"dataframe\">\n",
       "  <thead>\n",
       "    <tr style=\"text-align: right;\">\n",
       "      <th></th>\n",
       "      <th>5 minutes window</th>\n",
       "      <th>10 minutes window</th>\n",
       "      <th>ground truth</th>\n",
       "    </tr>\n",
       "    <tr>\n",
       "      <th>Time Intervals</th>\n",
       "      <th></th>\n",
       "      <th></th>\n",
       "      <th></th>\n",
       "    </tr>\n",
       "  </thead>\n",
       "  <tbody>\n",
       "    <tr>\n",
       "      <th>0</th>\n",
       "      <td>02:37:00 - 02:47:20</td>\n",
       "      <td>02:37:00 - 02:47:20</td>\n",
       "      <td>02:35:05 - 07:40:00</td>\n",
       "    </tr>\n",
       "    <tr>\n",
       "      <th>1</th>\n",
       "      <td>02:47:35 - 02:56:00</td>\n",
       "      <td>03:19:05 - 04:22:45</td>\n",
       "      <td>-</td>\n",
       "    </tr>\n",
       "    <tr>\n",
       "      <th>2</th>\n",
       "      <td>02:56:10 - 03:03:35</td>\n",
       "      <td>04:30:20 - 04:45:30</td>\n",
       "      <td>-</td>\n",
       "    </tr>\n",
       "    <tr>\n",
       "      <th>3</th>\n",
       "      <td>03:03:45 - 03:11:15</td>\n",
       "      <td>04:49:55 - 05:19:40</td>\n",
       "      <td>-</td>\n",
       "    </tr>\n",
       "    <tr>\n",
       "      <th>4</th>\n",
       "      <td>03:12:05 - 03:19:00</td>\n",
       "      <td>05:19:45 - 05:34:25</td>\n",
       "      <td>-</td>\n",
       "    </tr>\n",
       "    <tr>\n",
       "      <th>5</th>\n",
       "      <td>03:19:05 - 04:22:45</td>\n",
       "      <td>05:50:10 - 06:07:15</td>\n",
       "      <td>-</td>\n",
       "    </tr>\n",
       "    <tr>\n",
       "      <th>6</th>\n",
       "      <td>04:24:45 - 04:30:10</td>\n",
       "      <td>06:15:50 - 06:31:05</td>\n",
       "      <td>-</td>\n",
       "    </tr>\n",
       "    <tr>\n",
       "      <th>7</th>\n",
       "      <td>04:30:20 - 04:45:30</td>\n",
       "      <td>06:31:20 - 06:51:35</td>\n",
       "      <td>-</td>\n",
       "    </tr>\n",
       "    <tr>\n",
       "      <th>8</th>\n",
       "      <td>04:49:55 - 05:19:40</td>\n",
       "      <td>06:52:15 - 07:12:10</td>\n",
       "      <td>-</td>\n",
       "    </tr>\n",
       "    <tr>\n",
       "      <th>9</th>\n",
       "      <td>05:19:45 - 05:34:25</td>\n",
       "      <td>07:12:15 - 07:28:40</td>\n",
       "      <td>-</td>\n",
       "    </tr>\n",
       "    <tr>\n",
       "      <th>10</th>\n",
       "      <td>05:43:05 - 05:50:00</td>\n",
       "      <td>07:28:50 - 07:39:15</td>\n",
       "      <td>-</td>\n",
       "    </tr>\n",
       "    <tr>\n",
       "      <th>11</th>\n",
       "      <td>05:50:10 - 06:07:15</td>\n",
       "      <td>-</td>\n",
       "      <td>-</td>\n",
       "    </tr>\n",
       "    <tr>\n",
       "      <th>12</th>\n",
       "      <td>06:07:20 - 06:15:45</td>\n",
       "      <td>-</td>\n",
       "      <td>-</td>\n",
       "    </tr>\n",
       "    <tr>\n",
       "      <th>13</th>\n",
       "      <td>06:15:50 - 06:31:05</td>\n",
       "      <td>-</td>\n",
       "      <td>-</td>\n",
       "    </tr>\n",
       "    <tr>\n",
       "      <th>14</th>\n",
       "      <td>06:31:20 - 06:51:35</td>\n",
       "      <td>-</td>\n",
       "      <td>-</td>\n",
       "    </tr>\n",
       "    <tr>\n",
       "      <th>15</th>\n",
       "      <td>06:52:15 - 07:12:10</td>\n",
       "      <td>-</td>\n",
       "      <td>-</td>\n",
       "    </tr>\n",
       "    <tr>\n",
       "      <th>16</th>\n",
       "      <td>07:12:15 - 07:28:40</td>\n",
       "      <td>-</td>\n",
       "      <td>-</td>\n",
       "    </tr>\n",
       "    <tr>\n",
       "      <th>17</th>\n",
       "      <td>07:28:50 - 07:39:15</td>\n",
       "      <td>-</td>\n",
       "      <td>-</td>\n",
       "    </tr>\n",
       "  </tbody>\n",
       "</table>\n",
       "</div>"
      ],
      "text/plain": [
       "                   5 minutes window    10 minutes window         ground truth\n",
       "Time Intervals                                                               \n",
       "0               02:37:00 - 02:47:20  02:37:00 - 02:47:20  02:35:05 - 07:40:00\n",
       "1               02:47:35 - 02:56:00  03:19:05 - 04:22:45                    -\n",
       "2               02:56:10 - 03:03:35  04:30:20 - 04:45:30                    -\n",
       "3               03:03:45 - 03:11:15  04:49:55 - 05:19:40                    -\n",
       "4               03:12:05 - 03:19:00  05:19:45 - 05:34:25                    -\n",
       "5               03:19:05 - 04:22:45  05:50:10 - 06:07:15                    -\n",
       "6               04:24:45 - 04:30:10  06:15:50 - 06:31:05                    -\n",
       "7               04:30:20 - 04:45:30  06:31:20 - 06:51:35                    -\n",
       "8               04:49:55 - 05:19:40  06:52:15 - 07:12:10                    -\n",
       "9               05:19:45 - 05:34:25  07:12:15 - 07:28:40                    -\n",
       "10              05:43:05 - 05:50:00  07:28:50 - 07:39:15                    -\n",
       "11              05:50:10 - 06:07:15                    -                    -\n",
       "12              06:07:20 - 06:15:45                    -                    -\n",
       "13              06:15:50 - 06:31:05                    -                    -\n",
       "14              06:31:20 - 06:51:35                    -                    -\n",
       "15              06:52:15 - 07:12:10                    -                    -\n",
       "16              07:12:15 - 07:28:40                    -                    -\n",
       "17              07:28:50 - 07:39:15                    -                    -"
      ]
     },
     "execution_count": 51,
     "metadata": {},
     "output_type": "execute_result"
    }
   ],
   "source": [
    "SPT_results"
   ]
  },
  {
   "cell_type": "markdown",
   "metadata": {},
   "source": [
    "# Metric Score (M)"
   ]
  },
  {
   "cell_type": "code",
   "execution_count": 52,
   "metadata": {},
   "outputs": [],
   "source": [
    "#Metric based on distance\n",
    "SPT['5MWindow']=SPT['5MWindow'].fillna(0)\n",
    "SPT['10MWindow']=SPT['10MWindow'].fillna(0)\n",
    "SPT['gt'] = SPT['gt'].fillna(0)\n",
    "dist5= (SPT['5MWindow'] - SPT['gt']).abs()\n",
    "dist10= (SPT['10MWindow'] - SPT['gt']).abs()"
   ]
  },
  {
   "cell_type": "code",
   "execution_count": 53,
   "metadata": {},
   "outputs": [
    {
     "data": {
      "text/plain": [
       "20.0     3407\n",
       "0.0       353\n",
       "100.0     252\n",
       "dtype: int64"
      ]
     },
     "execution_count": 53,
     "metadata": {},
     "output_type": "execute_result"
    }
   ],
   "source": [
    "#true values=(20,0)\n",
    "#false values=(120,100)\n",
    "dist5.value_counts()"
   ]
  },
  {
   "cell_type": "code",
   "execution_count": 54,
   "metadata": {},
   "outputs": [
    {
     "data": {
      "text/plain": [
       "40.0     2795\n",
       "100.0     864\n",
       "0.0       353\n",
       "dtype: int64"
      ]
     },
     "execution_count": 54,
     "metadata": {},
     "output_type": "execute_result"
    }
   ],
   "source": [
    "#true values=(40,0)\n",
    "#false values=(140,100)\n",
    "dist10.value_counts()"
   ]
  },
  {
   "cell_type": "code",
   "execution_count": 55,
   "metadata": {},
   "outputs": [],
   "source": [
    "#Count the false values\n",
    "False_values5=(dist5.values==100).sum() + (dist5.values==120).sum()\n",
    "False_values10=(dist10.values==140).sum() + (dist10.values==100).sum()"
   ]
  },
  {
   "cell_type": "code",
   "execution_count": 56,
   "metadata": {},
   "outputs": [
    {
     "name": "stdout",
     "output_type": "stream",
     "text": [
      "6.281156530408774 21.535393818544364\n"
     ]
    }
   ],
   "source": [
    "#Calculate errors (false_values/5S divided by all values/5S)\n",
    "M5=(False_values5/SPT.shape[0])*100\n",
    "M10=(False_values10/SPT.shape[0])*100\n",
    "print(M5,M10)"
   ]
  },
  {
   "cell_type": "code",
   "execution_count": null,
   "metadata": {},
   "outputs": [],
   "source": []
  }
 ],
 "metadata": {
  "kernelspec": {
   "display_name": "Python 3 (ipykernel)",
   "language": "python",
   "name": "python3"
  },
  "language_info": {
   "codemirror_mode": {
    "name": "ipython",
    "version": 3
   },
   "file_extension": ".py",
   "mimetype": "text/x-python",
   "name": "python",
   "nbconvert_exporter": "python",
   "pygments_lexer": "ipython3",
   "version": "3.9.12"
  }
 },
 "nbformat": 4,
 "nbformat_minor": 4
}
